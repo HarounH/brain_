{
 "cells": [
  {
   "cell_type": "markdown",
   "metadata": {},
   "source": [
    "# Interpreting FGL weights\n",
    "\n",
    "[Todo] \n",
    "**Thoughts**: Importance of intermediate representations are normally misleading due to changes in variance and correlations that occur. However, maybe weight norm avoids all of those? Afterall, it does make the norm remain the same... Not exactly the same as keeping the same distribution, but might be all we really need?\n",
    "\n",
    "**Neuroscientific interpretation**: Get started"
   ]
  },
  {
   "cell_type": "markdown",
   "metadata": {},
   "source": [
    "## Notational warning to readers\n",
    "Math subscript are in (position, filter) order but the implementation of FGL is in (filter, position) order. Thank you, PyTorch!"
   ]
  },
  {
   "cell_type": "code",
   "execution_count": 9,
   "metadata": {},
   "outputs": [
    {
     "name": "stdout",
     "output_type": "stream",
     "text": [
      "The autoreload extension is already loaded. To reload it, use:\n",
      "  %reload_ext autoreload\n"
     ]
    }
   ],
   "source": [
    "%matplotlib inline\n",
    "%load_ext autoreload\n",
    "%autoreload 2\n",
    "import os\n",
    "import time\n",
    "import matplotlib\n",
    "# matplotlib.use(\"agg\")\n",
    "import matplotlib.pyplot as plt\n",
    "import torch\n",
    "import nibabel\n",
    "import data.constants as constants\n",
    "import nilearn.masking as masking\n",
    "import numpy as np\n",
    "import pandas as pd\n",
    "import nibabel\n",
    "from nilearn.image import load_img, resample_img, crop_img, threshold_img, math_img\n",
    "import nilearn.image as niimg\n",
    "import nilearn.masking as masking\n",
    "from nilearn import plotting\n",
    "import itertools\n",
    "import torch\n",
    "from torch import autograd\n",
    "import torch.utils.data\n",
    "import torch.nn as nn\n",
    "import torch.nn.functional as F\n",
    "import torch.optim as optim\n",
    "from gcn.modules import (\n",
    "    classifiers,\n",
    ")\n",
    "import utils.utils as utils\n",
    "from data import (\n",
    "    dataset,\n",
    "    constants,\n",
    "    ward_tree,\n",
    ")\n",
    "import scipy\n",
    "import scipy.special\n",
    "mask = nibabel.load(\"/data/hcp/hcp_mask.nii.gz\")\n",
    "from collections import defaultdict"
   ]
  },
  {
   "cell_type": "markdown",
   "metadata": {},
   "source": [
    "### Interpretability for a model\n",
    "`ds` determines which dataset. Changing it requires re-running the entire notebook."
   ]
  },
  {
   "cell_type": "code",
   "execution_count": 11,
   "metadata": {},
   "outputs": [
    {
     "name": "stdout",
     "output_type": "stream",
     "text": [
      "n_regions=32 >= level_size=32 is not allowed. setting n_regions < level_size\n",
      "Using corrected initialization\n",
      "FGL: Using tree optimization\n",
      "Using corrected initialization\n",
      "FGL: Using tree optimization\n",
      "Using corrected initialization\n",
      "FGL: Using tree optimization\n"
     ]
    }
   ],
   "source": [
    "md = \"smallerfgl_213_sum_tree\"\n",
    "prefix = \"test\"\n",
    "ds = \"archi0\"\n",
    "fc_chk = torch.load(\"/data/brain_/gcn/outputs/multi_run/{}/{}/outer_split0/last.checkpoint\".format(\"fc\", ds))\n",
    "\n",
    "chk = torch.load(\"/data/brain_/gcn/outputs/multi_run/{}/{}/outer_split0/last.checkpoint\".format(md, ds))\n",
    "args = torch.load(\"/data/brain_/gcn/outputs/multi_run/{}/{}/args.checkpoint\".format(md, ds))\n",
    "splits, meta = dataset.get_splits(\n",
    "    args.study,\n",
    "    args.outer_folds,\n",
    "    1,\n",
    "    args.dset_seed,\n",
    "    random_outer=args.outer_frac,  # test, always. Not CV\n",
    "    random_inner=0.0,  # No validation.\n",
    "    masked=classifiers.masked[args.classifier_type],\n",
    "    downsampled=args.downsampled,\n",
    "    normalization=args.normalization,\n",
    "    not_lazy=args.not_lazy\n",
    ")\n",
    "\n",
    "model = classifiers.versions[args.classifier_type](args, loadable_state_dict=chk['model'])\n",
    "model = model.cuda()\n",
    "dpm = nn.DataParallel(model)\n",
    "model = model.eval()\n",
    "\n",
    "fc = classifiers.versions[\"fc\"](args, loadable_state_dict=fc_chk[\"model\"])\n",
    "with torch.no_grad():\n",
    "    fc_weight = fc_chk['model']['net.0.weight_g'] * fc_chk['model']['net.0.weight_v']\n",
    "fc_imgs = [masking.unmask(fc_weight[i].cpu().numpy(), mask) for i in range(fc_weight.shape[0])]"
   ]
  },
  {
   "cell_type": "markdown",
   "metadata": {},
   "source": [
    "### Class names"
   ]
  },
  {
   "cell_type": "code",
   "execution_count": 52,
   "metadata": {},
   "outputs": [
    {
     "data": {
      "text/plain": [
       "{0: 'speech',\n",
       " 1: 'non_speech',\n",
       " 2: 'false_belief_audio',\n",
       " 3: 'triangle_intention',\n",
       " 4: 'mecanistic_video',\n",
       " 5: 'false_belief_video',\n",
       " 6: 'mecanistic_audio',\n",
       " 7: 'triangle_random',\n",
       " 8: 'saccade',\n",
       " 9: 'rotation_side',\n",
       " 10: 'object_orientation',\n",
       " 11: 'object_grasp',\n",
       " 12: 'rotation_hand',\n",
       " 13: 'clicGvideo',\n",
       " 14: 'clicDaudio',\n",
       " 15: 'clicGaudio',\n",
       " 16: 'computation',\n",
       " 17: 'calculaudio',\n",
       " 18: 'clicDvideo',\n",
       " 19: 'damier_H',\n",
       " 20: 'motor-cognitive',\n",
       " 21: 'calculvideo',\n",
       " 22: 'damier_V',\n",
       " 23: 'audio',\n",
       " 24: 'face_trusty',\n",
       " 25: 'expression_intention',\n",
       " 26: 'expression_sex',\n",
       " 27: 'face_control',\n",
       " 28: 'face_sex',\n",
       " 29: 'expression_control'}"
      ]
     },
     "execution_count": 52,
     "metadata": {},
     "output_type": "execute_result"
    }
   ],
   "source": [
    "args.meta['i2c']"
   ]
  },
  {
   "cell_type": "markdown",
   "metadata": {},
   "source": [
    "### Visualization of logistic regression weights\n",
    "Change the `cls` variable in the next cell and run"
   ]
  },
  {
   "cell_type": "code",
   "execution_count": 12,
   "metadata": {},
   "outputs": [
    {
     "data": {
      "text/plain": [
       "<nilearn.plotting.displays.OrthoSlicer at 0x7fb5c47819e8>"
      ]
     },
     "execution_count": 12,
     "metadata": {},
     "output_type": "execute_result"
    },
    {
     "data": {
      "image/png": "[encoded data removed]",
      "text/plain": [
       "<Figure size 525.6x187.2 with 5 Axes>"
      ]
     },
     "metadata": {},
     "output_type": "display_data"
    }
   ],
   "source": [
    "cls = 20\n",
    "plotting.plot_stat_map(fc_imgs[cls])\n",
    "# plotting.plot_stat_map(niimg.smooth_img(imgs[0], 'fast'))\n",
    "\n",
    "# fcwt_imgs = [masking.unmask(fc.net[0].weight[i].detach().cpu().numpy(), mask) for i in range(fc_weight.shape[0])]\n",
    "# plotting.plot_stat_map(fcwt_imgs[cls])"
   ]
  },
  {
   "cell_type": "code",
   "execution_count": 13,
   "metadata": {},
   "outputs": [
    {
     "data": {
      "text/plain": [
       "64"
      ]
     },
     "execution_count": 13,
     "metadata": {},
     "output_type": "execute_result"
    }
   ],
   "source": [
    "np.linalg.matrix_rank(chk['model']['downsample2.ft_weight_v'].cpu().numpy())"
   ]
  },
  {
   "cell_type": "markdown",
   "metadata": {},
   "source": [
    "### Mathing our way to interpreting FGL\n",
    "One FGL layer is $$o = A(x^{\\top}v)\\cdot u)$$\n",
    "Expanding it out, it becomes $$o_{p,j} = \\sum_{i\\in Children(p)} u_{i,j} \\sum_{k=1}^{c_{in}} x_{i,k}, v_{k,j}$$"
   ]
  },
  {
   "cell_type": "markdown",
   "metadata": {},
   "source": [
    "We stack this thrice. Layer 1 first,\n",
    "$$o_{p,j}^{(1)} = \\sum_{i_1\\in Children^{(1)}(p)} u_{i_1,j}^{(1)} \\sum_{k=1}^{c_{in}} x_{i_1, k} v_{k, j}^{(1)}$$\n",
    "Layer 2 is:\n",
    "$$o_{p,j}^{(2)} = \\sum_{i\\in Children^{(2)}(p)} u_{i,j}^{(2)} \\sum_{k=1}^{c_{in}^{(2)}} o_{i, k}^{(1)} v_{k, j}^{(2)}$$\n",
    "$$o_{i_3,j}^{(2)} = \\sum_{i_2\\in Children^{(2)}(i_3)} u_{i_2,j}^{(2)} \\sum_{k_2=1}^{c_{in}^{(2)}} (\\sum_{i_1\\in Children^{(1)}(i_2)} u_{i_1,k_2}^{(1)} \\sum_{k_1=1}^{c_{in}^{(1)}} x_{i_1, k_1} v_{k_1, k_2}^{(1)}) v_{k_2, j}^{(2)}$$"
   ]
  },
  {
   "cell_type": "markdown",
   "metadata": {},
   "source": [
    "Layer 3 is:\n",
    "$$o_{p,j}^{(3)} = \\sum_{i\\in Children^{(3)}(p)} u_{i,j}^{(3)} \\sum_{k_3=1}^{c_{in}^{(3)}} o_{i, k_3}^{(2)} v_{k_3, j}^{(3)}$$\n",
    "\n",
    "$$o_{p,j}^{(3)} = \\sum_{i_3\\in Children^{(3)}(p)} u_{i_3,j}^{(3)} \\sum_{k_3=1}^{c_{in}^{(3)}} (\\sum_{i_2\\in Children^{(2)}(i_3)} u_{i_2,k_3}^{(2)} \\sum_{k_2=1}^{c_{in}^{(2)}} (\\sum_{i_1\\in Children^{(1)}(i_2)} u_{i_1,k_2}^{(1)} \\sum_{k_1=1}^{c_{in}^{(1)}} x_{i_1, k_1} v_{k_1, k_2}^{(1)}) v_{k_2, k_3}^{(2)}) v_{k_3, j}^{(3)}$$"
   ]
  },
  {
   "cell_type": "markdown",
   "metadata": {},
   "source": [
    "Rearranging terms\n",
    "$$o_{p,j}^{(3)} = \\sum_{k_3}^{c_{in}^{(3)}} \\sum_{k_2}^{c_{in}^{(2)}} \\sum_{k_1}^{c_{in}^{(1)}} \\sum_{i_3\\in Children^{(3)}(p)} \\sum_{i_2\\in Children^{(2)}(i_3)} \\sum_{i_1\\in Children^{(1)}(i_2)} x_{i_1, k_1} u_{i_3, j}^{(3)} u_{i_2, k_3}^{(2)} u_{i_1, k_2}^{(1)} v_{k_1, k_2}^{(1)} v_{k_2, k_3}^{(2)} v_{k_3, j}^{(3)}$$"
   ]
  },
  {
   "cell_type": "markdown",
   "metadata": {},
   "source": [
    "Since each FGL layer follows a tree structure, Each $x_{i_1}$ affects only ONE $o_{p, :}$... so given a $i_1$, there is only one $i_2, i_3, p$. Hence, we rewrite our equation as:\n",
    "$$o_{p, j}^{(3)} = x_{i_1, k_1} \\sum_{k_3}^{c_{in}^{(3)}} \\sum_{k_2}^{c_{in}^{(2)}} u_{i_3, j}^{(3)} u_{i_2, k_3}^{(2)} u_{i_1, k_2}^{(1)} v_{k_1, k_2}^{(1)} v_{k_2, k_3}^{(2)} v_{k_3, j}^{(3)} $$\n",
    "for $i_2, i_3, p$ determined by the parents relationship"
   ]
  },
  {
   "cell_type": "markdown",
   "metadata": {},
   "source": [
    "Further, $$y^{(c)} = \\sum_{p, j} w^{(c)}_{p, j} o^{(3)}_{p, j}$$"
   ]
  },
  {
   "cell_type": "markdown",
   "metadata": {},
   "source": [
    "## Importance with bias accounted for\n",
    "$$o_{p,j}^{(1)} = b^{(1)}_{p, j} + \\sum_{i_1\\in Children^{(1)}(p)} u_{i_1,j}^{(1)} \\sum_{k=1}^{c_{in}} x_{i_1, k} v_{k, j}^{(1)}$$\n"
   ]
  },
  {
   "cell_type": "markdown",
   "metadata": {},
   "source": [
    "$$o_{p,j}^{(3)} = b^{(3)}_{p, j} + \\sum_{i_3\\in Children^{(3)}(p)} u_{i_3,j}^{(3)} \\sum_{k_3=1}^{c_{in}^{(3)}} (b^{(2)}_{i_3, k_3} + \\sum_{i_2\\in Children^{(2)}(i_3)} u_{i_2,k_3}^{(2)} \\sum_{k_2=1}^{c_{in}^{(2)}} (b^{(1)}_{i_2, k_2} + \\sum_{i_1\\in Children^{(1)}(i_2)} u_{i_1,k_2}^{(1)} \\sum_{k_1=1}^{c_{in}^{(1)}} x_{i_1, k_1} v_{k_1, k_2}^{(1)}) v_{k_2, k_3}^{(2)}) v_{k_3, j}^{(3)}$$"
   ]
  },
  {
   "cell_type": "markdown",
   "metadata": {},
   "source": [
    "$$o_{p,j}^{(3)} = b^{(3)}_{p, j} + u_{i_3,j}^{(3)} \\sum_{k_3=1}^{c_{in}^{(3)}} (b^{(2)}_{i_3, k_3} + u_{i_2,k_3}^{(2)} \\sum_{k_2=1}^{c_{in}^{(2)}} (b^{(1)}_{i_2, k_2} + u_{i_1,k_2}^{(1)} \\sum_{k_1=1}^{c_{in}^{(1)}} x_{i_1, k_1} v_{k_1, k_2}^{(1)}) v_{k_2, k_3}^{(2)}) v_{k_3, j}^{(3)}$$"
   ]
  },
  {
   "cell_type": "markdown",
   "metadata": {},
   "source": [
    "Looks like bias shouldn't matter (as expected?)"
   ]
  },
  {
   "cell_type": "markdown",
   "metadata": {},
   "source": [
    "## Visualize linear weights from any layer "
   ]
  },
  {
   "cell_type": "code",
   "execution_count": 14,
   "metadata": {},
   "outputs": [
    {
     "name": "stdout",
     "output_type": "stream",
     "text": [
      "n_regions=32 >= level_size=32 is not allowed. setting n_regions < level_size\n",
      "Using corrected initialization\n",
      "FGL: Using tree optimization\n",
      "Using corrected initialization\n",
      "FGL: Using tree optimization\n",
      "Using corrected initialization\n",
      "FGL: Using tree optimization\n"
     ]
    }
   ],
   "source": [
    "# Loading model\n",
    "exp = \"gcn\"\n",
    "md = \"smallerfgl_213_sum_tree\"\n",
    "prefix = \"test\"\n",
    "ds = \"archi0\"\n",
    "chk = torch.load(\"/data/brain_/{}/outputs/multi_run/{}/{}/outer_split0/last.checkpoint\".format(exp, md, ds))\n",
    "args = torch.load(\"/data/brain_/{}/outputs/multi_run/{}/{}/args.checkpoint\".format(exp, md, ds))\n",
    "splits, meta = dataset.get_splits(\n",
    "    args.study,\n",
    "    args.outer_folds,\n",
    "    1,\n",
    "    args.dset_seed,\n",
    "    random_outer=args.outer_frac,  # test, always. Not CV\n",
    "    random_inner=0.0,  # No validation.\n",
    "    masked=classifiers.masked[args.classifier_type],\n",
    "    downsampled=args.downsampled,\n",
    "    normalization=args.normalization,\n",
    "    not_lazy=args.not_lazy\n",
    ")\n",
    "\n",
    "model = classifiers.versions[args.classifier_type](args, loadable_state_dict=chk['model'])\n",
    "model = model.cuda()\n",
    "dpm = nn.DataParallel(model)\n",
    "model = model.eval()"
   ]
  },
  {
   "cell_type": "code",
   "execution_count": 15,
   "metadata": {},
   "outputs": [],
   "source": [
    "childrens = {}\n",
    "parents = {}\n",
    "for i in range(1, 4):\n",
    "    layer = getattr(model, 'downsample{}'.format(i-1))\n",
    "    parents[i] = layer.indices.detach().cpu().numpy()[0, 0]\n",
    "    childrens[i] = [[] for _ in range(layer.outn)]\n",
    "    inds = layer.indices[0, 0].detach().cpu().numpy().astype(np.int)\n",
    "    for idx, par in enumerate(inds):\n",
    "        childrens[i][par].append(idx)\n",
    "\n",
    "p2i1 = [[] for _ in range(len(childrens[3]))]\n",
    "for p in range(len(childrens[3])):\n",
    "    for i3 in childrens[3][p]:\n",
    "        for i2 in childrens[2][i3]:\n",
    "            p2i1[p].extend(childrens[1][i2])\n",
    "\n",
    "i12p = {}\n",
    "for p, i1s in enumerate(p2i1):\n",
    "    for i in i1s:\n",
    "        i12p[i] = p\n",
    "\n",
    "cs = {\n",
    "    0: 1,\n",
    "    1: model.downsample0.outc,\n",
    "    2: model.downsample1.outc,\n",
    "    3: model.downsample2.outc,\n",
    "}  # Number of channels at each stage\n",
    "\n",
    "ns = {\n",
    "    0: model.downsample0.inn, \n",
    "    1: model.downsample1.inn, \n",
    "    2: model.downsample2.inn,\n",
    "    3: model.downsample2.outn,\n",
    "}  # Number ofnodes at each stage\n",
    "\n",
    "# Model parameters follow\n",
    "us = {}\n",
    "vs = {}\n",
    "with torch.no_grad():\n",
    "    us[1] = (model.downsample0.nf_weight_g * model.downsample0.nf_weight_v).detach().cpu().numpy()\n",
    "    us[2] = (model.downsample1.nf_weight_g * model.downsample1.nf_weight_v).detach().cpu().numpy()\n",
    "    us[3] = (model.downsample2.nf_weight_g * model.downsample2.nf_weight_v).detach().cpu().numpy()\n",
    "    vs[1] = (model.downsample0.ft_weight_g * model.downsample0.ft_weight_v).detach().cpu().numpy()\n",
    "    vs[2] = (model.downsample1.ft_weight_g * model.downsample1.ft_weight_v).detach().cpu().numpy()\n",
    "    vs[3] = (model.downsample2.ft_weight_g * model.downsample2.ft_weight_v).detach().cpu().numpy()\n",
    "\n",
    "fglw = (model.fc[0].weight_g * model.fc[0].weight_v).detach().cpu().numpy()  # Weight of fc layer\n",
    "nclasses = fglw.shape[0]\n",
    "fglw = np.reshape(fglw, (nclasses, cs[3], ns[3]))\n",
    "# There was some confusion regarding how pytorch handles flattening. This should be correct."
   ]
  },
  {
   "cell_type": "code",
   "execution_count": 16,
   "metadata": {},
   "outputs": [],
   "source": [
    "importances = {\n",
    "    i: np.zeros((nclasses, cs[i], ns[i])) for i in range(4)\n",
    "}"
   ]
  },
  {
   "cell_type": "code",
   "execution_count": 17,
   "metadata": {},
   "outputs": [
    {
     "name": "stdout",
     "output_type": "stream",
     "text": [
      "importances[2]: 5.284967422485352\n",
      "importances[1]: 5.963765621185303\n",
      "importances[0]: 1231.5290627479553\n"
     ]
    }
   ],
   "source": [
    "with torch.no_grad():\n",
    "    # Start at layer 3's output\n",
    "    importances[3] = fglw\n",
    "    \n",
    "    # Importances for layer 2's output\n",
    "    tic = time.time()\n",
    "    for c in range(nclasses):\n",
    "        for i3 in range(ns[2]):\n",
    "            # for k in range(cs[2]):\n",
    "            p = parents[3][i3]\n",
    "            importances[2][c, :, i3] += us[3][:, i3] @ np.diag(fglw[c, :, p]) @ vs[3].T\n",
    "    print(\"importances[2]: {}\".format(time.time() - tic))\n",
    "    \n",
    "    # Importance of layer 1's output\n",
    "    tic = time.time()\n",
    "    for c in range(nclasses):\n",
    "        for i2 in range(ns[1]):\n",
    "            i3 = parents[2][i2]\n",
    "            p = parents[3][i3]\n",
    "            theta = us[3][:, i3] @ np.diag(fglw[c, :, p]) @ vs[3].T  # k3 sized vector\n",
    "            importances[1][c, :, i2] += us[2][:, i2] @ np.diag(theta) @ vs[2].T\n",
    "    print(\"importances[1]: {}\".format(time.time() - tic))\n",
    "    # Importance of input\n",
    "    tic = time.time()\n",
    "    for c in range(nclasses):\n",
    "        for i1 in range(ns[0]):    \n",
    "            # affect of x_i on y_c\n",
    "            i2 = parents[1][i1]\n",
    "            i3 = parents[2][i2]\n",
    "            p = parents[3][i3]\n",
    "            theta = us[3][:, i3] @ np.diag(fglw[c, :, p]) @ vs[3].T  # k3 sized vector\n",
    "            theta = us[2][:, i2] @ np.diag(theta) @ vs[2].T\n",
    "            importances[0][c, :, i1] += us[1][:, i1] @ np.diag(theta) @ vs[1].T\n",
    "    print(\"importances[0]: {}\".format(time.time() - tic))"
   ]
  },
  {
   "cell_type": "code",
   "execution_count": 18,
   "metadata": {},
   "outputs": [
    {
     "data": {
      "text/plain": [
       "(30, 32, 1024)"
      ]
     },
     "execution_count": 18,
     "metadata": {},
     "output_type": "execute_result"
    }
   ],
   "source": [
    "importances[1].shape"
   ]
  },
  {
   "cell_type": "code",
   "execution_count": 45,
   "metadata": {},
   "outputs": [],
   "source": [
    "taking_indices = {\n",
    "    i: model.args.wtree.cut(ns[i]) for i in ns.keys()\n",
    "}\n",
    "biases = {\n",
    "    i + 1: getattr(model, 'downsample{}'.format(i)).bias.detach().cpu().numpy()[0] for i in range(3)\n",
    "}"
   ]
  },
  {
   "cell_type": "code",
   "execution_count": 46,
   "metadata": {},
   "outputs": [],
   "source": [
    "# layer_idx=0 corresponds to input\n",
    "# 1 is after 1 layer of FGL\n",
    "# 2 is after 2 layers\n",
    "# 3 is after 3 layers\n",
    "def get_niimg(layer_idx, cls=0, channel_idx=0, clip=0.1):\n",
    "    arr = np.take(importances[layer_idx][cls, channel_idx, :], taking_indices[layer_idx])\n",
    "    niimg = masking.unmask(np.clip(arr, -clip, clip), mask)\n",
    "    return niimg\n",
    "def get_bias_niimg(layer_idx, channel_idx, clip=0.1):\n",
    "    arr = np.take(biases[layer_idx][channel_idx, :], taking_indices[layer_idx])\n",
    "    niimg = masking.unmask(np.clip(arr, -clip, clip), mask)\n",
    "    return niimg"
   ]
  },
  {
   "cell_type": "markdown",
   "metadata": {},
   "source": [
    "## Cmap names\n",
    "Referred to <https://jakevdp.github.io/blog/2014/10/16/how-bad-is-your-colormap/>\n",
    "\n",
    "Colormap red is not recognized. Possible values are: Accent, Accent_r, Blues, Blues_r, BrBG, BrBG_r, BuGn, BuGn_r, BuPu, BuPu_r, CMRmap, CMRmap_r, Dark2, Dark2_r, GnBu, GnBu_r, Greens, Greens_r, Greys, Greys_r, OrRd, OrRd_r, Oranges, Oranges_r, PRGn, PRGn_r, Paired, Paired_r, Pastel1, Pastel1_r, Pastel2, Pastel2_r, PiYG, PiYG_r, PuBu, PuBuGn, PuBuGn_r, PuBu_r, PuOr, PuOr_r, PuRd, PuRd_r, Purples, Purples_r, RdBu, RdBu_r, RdGy, RdGy_r, RdPu, RdPu_r, RdYlBu, RdYlBu_r, RdYlGn, RdYlGn_r, Reds, Reds_r, Set1, Set1_r, Set2, Set2_r, Set3, Set3_r, Spectral, Spectral_r, Wistia, Wistia_r, YlGn, YlGnBu, YlGnBu_r, YlGn_r, YlOrBr, YlOrBr_r, YlOrRd, YlOrRd_r, afmhot, afmhot_r, autumn, autumn_r, binary, binary_r, black_blue, black_blue_r, black_green, black_green_r, black_pink, black_pink_r, black_purple, black_purple_r, black_red, black_red_r, blue_orange, blue_orange_r, blue_red, blue_red_r, blue_transparent, blue_transparent_full_alpha_range, bone, bone_r, brg, brg_r, brown_blue, brown_blue_r, brown_cyan, brown_cyan_r, bwr, bwr_r, cividis, cividis_r, cold_hot, cold_hot_r, cold_white_hot, cold_white_hot_r, cool, cool_r, coolwarm, coolwarm_r, copper, copper_r, cubehelix, cubehelix_r, cyan_copper, cyan_copper_r, cyan_orange, cyan_orange_r, flag, flag_r, gist_earth, gist_earth_r, gist_gray, gist_gray_r, gist_heat, gist_heat_r, gist_ncar, gist_ncar_r, gist_rainbow, gist_rainbow_r, gist_stern, gist_stern_r, gist_yarg, gist_yarg_r, gnuplot, gnuplot2, gnuplot2_r, gnuplot_r, gray, gray_r, green_transparent, green_transparent_full_alpha_range, hot, hot_black_bone, hot_black_bone_r, hot_r, hot_white_bone, hot_white_bone_r, hsv, hsv_r, inferno, inferno_r, jet, jet_r, magma, magma_r, nipy_spectral, nipy_spectral_r, ocean, ocean_hot, ocean_hot_r, ocean_r, pink, pink_r, plasma, plasma_r, prism, prism_r, purple_blue, purple_blue_r, purple_green, purple_green_r, rainbow, rainbow_r, red_transparent, red_transparent_full_alpha_range, seismic, seismic_r, spring, spring_r, summer, summer_r, tab10, tab10_r, tab20, tab20_r, tab20b, tab20b_r, tab20c, tab20c_r, terrain, terrain_r, viridis, viridis_r, winter, winter_r\n",
    "\n"
   ]
  },
  {
   "cell_type": "markdown",
   "metadata": {},
   "source": [
    "### Visualization of FGL weights\n",
    "> from a fixed stage (0 = input, 1 = output of FGL layer 1, 2 = output of FGL layer 2, 3 = output of FGL layer 3)  \n",
    "> for a fixed class   \n",
    "> for a specific filter (0, 32, 64, 128 for each stage)  \n",
    "> with a value clip for better resolution"
   ]
  },
  {
   "cell_type": "code",
   "execution_count": 57,
   "metadata": {},
   "outputs": [
    {
     "data": {
      "text/plain": [
       "<nilearn.plotting.displays.OrthoSlicer at 0x7fb5b9a36240>"
      ]
     },
     "execution_count": 57,
     "metadata": {},
     "output_type": "execute_result"
    },
    {
     "data": {
      "image/png": "[encoded data removed]",
      "text/plain": [
       "<Figure size 525.6x187.2 with 5 Axes>"
      ]
     },
     "metadata": {},
     "output_type": "display_data"
    }
   ],
   "source": [
    "plotting.plot_stat_map(get_niimg(2, cls=0, channel_idx=0, clip=0.1), cmap=plt.get_cmap('RdPu'))"
   ]
  },
  {
   "cell_type": "code",
   "execution_count": 49,
   "metadata": {},
   "outputs": [
    {
     "data": {
      "text/plain": [
       "<nilearn.plotting.displays.OrthoSlicer at 0x7fb5be5cbcf8>"
      ]
     },
     "execution_count": 49,
     "metadata": {},
     "output_type": "execute_result"
    },
    {
     "data": {
      "image/png": "[encoded data removed]",
      "text/plain": [
       "<Figure size 525.6x187.2 with 5 Axes>"
      ]
     },
     "metadata": {},
     "output_type": "display_data"
    }
   ],
   "source": [
    "# Visualize the bias too - in case it matters. (Not the importance of the bias but the bias itself.)\n",
    "plotting.plot_stat_map(get_bias_niimg(1, 0, 10), cmap=plt.get_cmap('hot_r'))"
   ]
  },
  {
   "cell_type": "code",
   "execution_count": 44,
   "metadata": {},
   "outputs": [
    {
     "data": {
      "text/plain": [
       "(32, 1024)"
      ]
     },
     "execution_count": 44,
     "metadata": {},
     "output_type": "execute_result"
    }
   ],
   "source": [
    "biases[1].shape"
   ]
  },
  {
   "cell_type": "code",
   "execution_count": null,
   "metadata": {},
   "outputs": [],
   "source": []
  }
 ],
 "metadata": {
  "kernelspec": {
   "display_name": "Python [conda env:py35]",
   "language": "python",
   "name": "conda-env-py35-py"
  },
  "language_info": {
   "codemirror_mode": {
    "name": "ipython",
    "version": 3
   },
   "file_extension": ".py",
   "mimetype": "text/x-python",
   "name": "python",
   "nbconvert_exporter": "python",
   "pygments_lexer": "ipython3",
   "version": "3.5.6"
  }
 },
 "nbformat": 4,
 "nbformat_minor": 2
}
