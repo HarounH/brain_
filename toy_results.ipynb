{
 "cells": [
  {
   "cell_type": "code",
   "execution_count": 2,
   "metadata": {},
   "outputs": [
    {
     "name": "stdout",
     "output_type": "stream",
     "text": [
      "The autoreload extension is already loaded. To reload it, use:\n",
      "  %reload_ext autoreload\n",
      "12 data files\n"
     ]
    }
   ],
   "source": [
    "%matplotlib inline\n",
    "%load_ext autoreload\n",
    "%autoreload 2\n",
    "import os\n",
    "import sys\n",
    "import numpy as np\n",
    "from collections import defaultdict\n",
    "import copy\n",
    "import matplotlib.pyplot as plt\n",
    "\n",
    "outputs_dir = \"gcn/toy2/outputs/logs\"\n",
    "\n",
    "# debugging_file = \"/data/brain_/gcn/toy/outputs/logs/baseline_ic5_lr0.001/data_n10000_seed8_hxd0.01_hn0.05_xn0.05.log.txt\"\n",
    "# example_string = \"[val 20/100: 0.06350064277648926s] loss=1.8832584941197956 acc=0.2986111111111111\"\n",
    "\n",
    "def subfolder2mticlrseed(subfoldername):\n",
    "    splt = subfoldername.split(\"_\")\n",
    "    model_type = splt[0]\n",
    "    ic = int(splt[1][2:])\n",
    "    lr = float(splt[2][2:]) if len(splt) > 2 else -1\n",
    "    rseed = int(splt[3][4:])\n",
    "    return model_type, ic, lr, rseed\n",
    "\n",
    "def logfilename2params(filename):\n",
    "    # filename = data_nXYZ_seedXYZ_hxd0.01_hn0.05_xn0.05.log.txt\n",
    "    splt = filename.replace(\".log.txt\", \"\").split(\"_\")  # split(\".\")[0].split(\"_\")\n",
    "    try:\n",
    "        n = int(splt[1][1:])\n",
    "        seed = int(splt[2][4:])\n",
    "        hxd = float(splt[3][3:])\n",
    "        hn = float(splt[4][2:])\n",
    "        xn = float(splt[5][2:])\n",
    "        return n, seed, hxd, hn, xn\n",
    "    except:\n",
    "        print(splt)\n",
    "        raise\n",
    "        return -1, -1, -1, -1, -1\n",
    "    \n",
    "print(\"{} data files\".format(len(os.listdir(\"/data/gcn_toy2/\"))))"
   ]
  },
  {
   "cell_type": "code",
   "execution_count": 3,
   "metadata": {},
   "outputs": [],
   "source": [
    "def parse_line(line):\n",
    "    line = line[1:]  # All lines start with \"[\"\n",
    "    timestamp, values = line.split(\"]\")\n",
    "\n",
    "    prefix_epoch_time = timestamp.split(\" \")\n",
    "    if len(prefix_epoch_time) <= 2:\n",
    "        if \"/\" in prefix_epoch_time[0]:\n",
    "            prefix = \"train\"\n",
    "            epoch_time = prefix_epoch_time\n",
    "        else:\n",
    "            prefix = prefix_epoch_time[0][:- 1]\n",
    "            epoch_time = [\"{}/{}:\".format(-1, -1), \"{}\".format(prefix_epoch_time[1])]\n",
    "    else:\n",
    "        prefix = prefix_epoch_time[0]\n",
    "        epoch_time = prefix_epoch_time[1:]\n",
    "    e, me = epoch_time[0].lstrip(\" \").rstrip(\" \").split(\"/\")\n",
    "    me = me[:len(me) - 1]\n",
    "    t = epoch_time[1][:len(epoch_time[1]) - 1]\n",
    "    lossstr, accstr = values.lstrip(\" \").rstrip(\" \").split(\" \")\n",
    "    loss = lossstr.split(\"=\")[1]\n",
    "    acc = accstr.split(\"=\")[1]\n",
    "    return prefix, int(e), int(me), float(t), float(loss), float(acc)\n",
    "\n",
    "def parse_log(filename):\n",
    "    values = defaultdict(lambda: defaultdict(lambda: []))\n",
    "    with open(filename, \"r\") as f:\n",
    "        for line in f:\n",
    "            line = line.rstrip(\"\\r\\n \")\n",
    "            if len(line) == 0 or line[0] != \"[\":\n",
    "                continue\n",
    "#             print(\"Parsing: {}\".format(line))\n",
    "            prefix, e, me, t, l, a = parse_line(line)\n",
    "            values[prefix][\"max epoch\"] = me\n",
    "            values[prefix][\"epoch\"].append(e)\n",
    "            values[prefix][\"time\"].append(t)\n",
    "            values[prefix][\"loss\"].append(l)\n",
    "            values[prefix][\"acc\"].append(a)\n",
    "    for prefix in values.keys():\n",
    "        values[prefix][\"epoch\"] = np.array(values[prefix][\"epoch\"]).astype(np.float32)\n",
    "        values[prefix][\"time\"] = np.array(values[prefix][\"time\"]).astype(np.float32)\n",
    "        values[prefix][\"loss\"] = np.array(values[prefix][\"loss\"]).astype(np.float32)\n",
    "        values[prefix][\"acc\"] = np.array(values[prefix][\"acc\"]).astype(np.float32)\n",
    "    return values"
   ]
  },
  {
   "cell_type": "code",
   "execution_count": 32,
   "metadata": {},
   "outputs": [
    {
     "name": "stdout",
     "output_type": "stream",
     "text": [
      "gcn/toy2/outputs/logs/fgl_ic32_lr0.10000000_seed860/data_n10000_seed666_hxd0.05_hn0.05_yn0.05.log.txt\n",
      "Found 768 logfiles\n"
     ]
    }
   ],
   "source": [
    "# density -> noise-tuple -> mt -> ic -> lr -> list\n",
    "log_files_dict = defaultdict(  # density\n",
    "    lambda: defaultdict(  # noise\n",
    "        lambda: defaultdict( # dataset seed\n",
    "            lambda: defaultdict( # mt\n",
    "                lambda: defaultdict( # ic\n",
    "                    lambda: defaultdict( # lr\n",
    "                        lambda: [],\n",
    "                    )\n",
    "                )\n",
    "            )\n",
    "        )\n",
    "    )\n",
    ")\n",
    "\n",
    "count = 0\n",
    "for subfolder in os.listdir(outputs_dir):\n",
    "    mt, ic, lr, rseed = subfolder2mticlrseed(subfolder)\n",
    "    \n",
    "    if lr < 0:\n",
    "        continue\n",
    "    for logfile in os.listdir(os.path.join(outputs_dir, subfolder)):\n",
    "        fullpath = os.path.join(outputs_dir, subfolder, logfile)\n",
    "        n, dseed, hxd, hn, xn = logfilename2params(logfile)\n",
    "        log_files_dict[hxd][(hn, xn)][dseed][mt][ic][lr].append(fullpath)\n",
    "        if count == 0:\n",
    "            print(fullpath)\n",
    "        count += 1\n",
    "\n",
    "print(\"Found {} logfiles\".format(count))\n",
    "nt = (hn, xn)\n",
    "all_hxds = list(log_files_dict.keys())\n",
    "all_nts = list(log_files_dict[hxd].keys())\n",
    "all_dseeds = list(log_files_dict[hxd][nt].keys())\n",
    "all_mts = list(log_files_dict[hxd][nt][dseed].keys())\n",
    "all_ics = list(log_files_dict[hxd][nt][dseed][mt].keys())\n",
    "all_lrs = list(log_files_dict[hxd][nt][dseed][mt][ic].keys())"
   ]
  },
  {
   "cell_type": "code",
   "execution_count": 12,
   "metadata": {},
   "outputs": [],
   "source": [
    "values_dict = copy.deepcopy(log_files_dict)  # Averages over multiple runs on each dataset seed\n",
    "for density in all_hxds:\n",
    "    for nt in all_nts:\n",
    "        for dseed in all_dseeds:\n",
    "            for mt in all_mts:\n",
    "                for ic in all_ics:\n",
    "                    for lr in all_lrs:\n",
    "                        summed_values = None\n",
    "                        logfiles = values_dict[density][nt][dseed][mt][ic][lr]\n",
    "                        if len(logfiles) == 0:\n",
    "                            continue\n",
    "                        for logfile in logfiles:\n",
    "                            values = parse_log(logfile)\n",
    "                            if summed_values is None:\n",
    "                                summed_values = values\n",
    "                            else:\n",
    "                                for prefix in values.keys():\n",
    "                                    summed_values[prefix][\"epoch\"] += values[prefix][\"epoch\"]\n",
    "                                    summed_values[prefix][\"time\"] += values[prefix][\"time\"]\n",
    "                                    summed_values[prefix][\"loss\"] += values[prefix][\"loss\"]\n",
    "                                    summed_values[prefix][\"acc\"] += values[prefix][\"acc\"]\n",
    "                        for prefix in summed_values.keys():\n",
    "                            summed_values[prefix][\"epoch\"] /= len(logfiles)\n",
    "                            summed_values[prefix][\"time\"] /= len(logfiles)\n",
    "                            summed_values[prefix][\"loss\"] /= len(logfiles)\n",
    "                            summed_values[prefix][\"acc\"] /= len(logfiles)\n",
    "                        values_dict[density][nt][dseed][mt][ic][lr] = summed_values"
   ]
  },
  {
   "cell_type": "code",
   "execution_count": 33,
   "metadata": {},
   "outputs": [
    {
     "name": "stdout",
     "output_type": "stream",
     "text": [
      "[0.05, 0.2, 0.01, 0.5]\n",
      "[(0.05, 0.05)]\n",
      "[1337, 666, 42]\n",
      "['baseline', 'fgl']\n",
      "[32, 16, 4, 1]\n",
      "[0.1, 0.001]\n"
     ]
    }
   ],
   "source": [
    "print(all_hxds)\n",
    "print(all_nts)\n",
    "print(all_dseeds)\n",
    "print(all_mts)\n",
    "print(all_ics)\n",
    "print(all_lrs)"
   ]
  },
  {
   "cell_type": "code",
   "execution_count": 27,
   "metadata": {},
   "outputs": [
    {
     "name": "stdout",
     "output_type": "stream",
     "text": [
      "hxd=0.05 ic=32 lr=0.001, max-val-acc-difference=[0.039310545, 0.09213787, 0.036334336]\n",
      "hxd=0.05 ic=16 lr=0.001, max-val-acc-difference=[0.03807041, 0.031126022, 0.021577388]\n",
      "hxd=0.05 ic=4 lr=0.001, max-val-acc-difference=[-0.008184493, 0.034970224, 0.009424627]\n",
      "hxd=0.05 ic=1 lr=0.001, max-val-acc-difference=[0.022073388, 0.017237067, -0.0078125]\n",
      "hxd=0.2 ic=32 lr=0.001, max-val-acc-difference=[0.08196926, 0.18799606, 0.16666663]\n",
      "hxd=0.2 ic=16 lr=0.001, max-val-acc-difference=[0.14918154, 0.15252978, 0.120411694]\n",
      "hxd=0.2 ic=4 lr=0.001, max-val-acc-difference=[0.02244541, 0.15265372, 0.17199898]\n",
      "hxd=0.2 ic=1 lr=0.001, max-val-acc-difference=[0.12524804, 0.16989091, 0.038938493]\n",
      "hxd=0.01 ic=32 lr=0.001, max-val-acc-difference=[0.20300102, 0.18439978, 0.19568458]\n",
      "hxd=0.01 ic=16 lr=0.001, max-val-acc-difference=[0.16021824, 0.17968756, 0.19382438]\n",
      "hxd=0.01 ic=4 lr=0.001, max-val-acc-difference=[0.15054566, 0.14645338, 0.16951889]\n",
      "hxd=0.01 ic=1 lr=0.001, max-val-acc-difference=[0.17373514, 0.15513396, 0.17323911]\n",
      "hxd=0.5 ic=32 lr=0.001, max-val-acc-difference=[0.1578621, 0.14955357, 0.16666663]\n",
      "hxd=0.5 ic=16 lr=0.001, max-val-acc-difference=[0.16765878, 0.15699407, 0.15376985]\n",
      "hxd=0.5 ic=4 lr=0.001, max-val-acc-difference=[0.11247519, 0.14818949, 0.14694941]\n",
      "hxd=0.5 ic=1 lr=0.001, max-val-acc-difference=[0.062004, 0.13913691, 0.13578868]\n"
     ]
    }
   ],
   "source": [
    "def model_acc(mt, hxd, ic, lr):\n",
    "    return [(values_dict[hxd][(0.05, 0.05)][dseed][mt][ic][lr][\"val\"][\"acc\"][-1]) for dseed in all_dseeds]\n",
    "def acc_diff(hxd, ic, lr):\n",
    "    return [x - y for (x, y) in zip(model_acc(\"fgl\", hxd, ic, lr), model_acc(\"baseline\", hxd, ic, lr))]\n",
    "#     return [np.max(values_dict[hxd][(0.05, 0.05)][dseed]['fgl'][ic][lr][\"val\"][\"acc\"]) - np.max(values_dict[hxd][(0.05, 0.05)][dseed]['baseline'][ic][lr][\"val\"][\"acc\"]) for dseed in all_dseeds]\n",
    "    #     return [values_dict[hxd][(0.05, 0.05)][dseed]['fgl'][ic][lr][\"test\"][\"acc\"][0] - values_dict[hxd][(0.05, 0.05)][dseed]['baseline'][ic][lr][\"test\"][\"acc\"][0] for dseed in all_dseeds]\n",
    "for hxd in all_hxds:\n",
    "    for ic in all_ics:\n",
    "        for lr in [0.001]:\n",
    "            print(\"hxd={} ic={} lr={}, max-val-acc-difference={}\".format(hxd, ic, lr, acc_diff(hxd, ic, lr)))"
   ]
  },
  {
   "cell_type": "code",
   "execution_count": 38,
   "metadata": {},
   "outputs": [
    {
     "name": "stdout",
     "output_type": "stream",
     "text": [
      "dseed=1337\n",
      "[0.14880952 0.44109622 0.5141369  0.5376984  0.5484871  0.55691963\n",
      " 0.5662203  0.57080853 0.57254463 0.5749008 ]\n",
      "[0.2547123  0.31956846 0.3426339  0.34176588 0.3545387  0.3544147\n",
      " 0.34747022 0.35404265 0.35267857 0.3500744 ]\n",
      "dseed=666\n",
      "[0.13417658 0.4310516  0.5052083  0.5296379  0.54228675 0.5483631\n",
      " 0.55580354 0.5554316  0.56063986 0.56312007]\n",
      "[0.2545883  0.3377976  0.33978176 0.3529266  0.35515875 0.35726684\n",
      " 0.35540673 0.36297125 0.3612351  0.36346728]\n",
      "dseed=42\n",
      "[0.16480654 0.4594494  0.5203373  0.53596234 0.5498512  0.5549355\n",
      " 0.55679566 0.5611359  0.56498015 0.5648562 ]\n",
      "[0.26822916 0.32775298 0.34275794 0.34424603 0.35677084 0.35639882\n",
      " 0.35280257 0.35032243 0.35267857 0.3534226 ]\n"
     ]
    }
   ],
   "source": [
    "def prefix_metric(mt, hxd, ic, lr, dseed, prefix=\"val\", metric=\"acc\"):\n",
    "    return (values_dict[hxd][(0.05, 0.05)][dseed][mt][ic][lr][prefix][metric])\n",
    "for dseed in all_dseeds:\n",
    "    print(\"dseed={}\".format(dseed))\n",
    "    print(prefix_metric(\"fgl\", 0.01, 1, 0.001, dseed))\n",
    "    print(prefix_metric(\"baseline\", 0.01, 32, 0.001, dseed))"
   ]
  },
  {
   "cell_type": "code",
   "execution_count": 155,
   "metadata": {},
   "outputs": [
    {
     "name": "stdout",
     "output_type": "stream",
     "text": [
      "Found densities : dict_keys([0.2, 0.04, 0.5, 0.02, 0.01, 0.1])\n",
      "Found intermediate channel counts : dict_keys([128, 1, 10, 3, 5])\n",
      "Found learning rates : dict_keys([1e-05, 0.1, 0.001, 0.0001])\n"
     ]
    }
   ],
   "source": [
    "hxds = values_dict.keys()\n",
    "print(\"Found densities : {}\".format(hxds))\n",
    "ics = values_dict[0.01][(0.05, 0.05)]['fgl'].keys()\n",
    "print(\"Found intermediate channel counts : {}\".format(ics))\n",
    "lrs = values_dict[hxd][(0.05, 0.05)]['fgl'][ic].keys()\n",
    "print(\"Found learning rates : {}\".format(lrs))\n",
    "# for density in values_dict.keys():\n",
    "#     for nt in values_dict[density].keys():\n",
    "#             for ic in values_dict[density][nt]['fgl'].keys():\n",
    "#                 for lr in values_dict[density][nt]['fgl'][ic].keys():\n",
    "                    "
   ]
  },
  {
   "cell_type": "code",
   "execution_count": 191,
   "metadata": {},
   "outputs": [
    {
     "data": {
      "text/plain": [
       "[<matplotlib.lines.Line2D at 0x7fecf0b042b0>]"
      ]
     },
     "execution_count": 191,
     "metadata": {},
     "output_type": "execute_result"
    },
    {
     "data": {
      "image/png": "[encoded data removed]",
      "text/plain": [
       "<Figure size 432x288 with 1 Axes>"
      ]
     },
     "metadata": {},
     "output_type": "display_data"
    }
   ],
   "source": [
    "# Training loss\n",
    "# As we change ic\n",
    "mt = 'baseline'\n",
    "lr = 0.0001\n",
    "ic = 3\n",
    "hdx = 0.5\n",
    "plt.plot(values_dict[hxd][(0.05, 0.05)][mt][ic][lr][\"val\"]['epoch'], values_dict[hxd][(0.05, 0.05)][mt][ic][lr][\"val\"]['loss'], label='')"
   ]
  },
  {
   "cell_type": "code",
   "execution_count": null,
   "metadata": {},
   "outputs": [],
   "source": []
  }
 ],
 "metadata": {
  "kernelspec": {
   "display_name": "Python [default]",
   "language": "python",
   "name": "python3"
  },
  "language_info": {
   "codemirror_mode": {
    "name": "ipython",
    "version": 3
   },
   "file_extension": ".py",
   "mimetype": "text/x-python",
   "name": "python",
   "nbconvert_exporter": "python",
   "pygments_lexer": "ipython3",
   "version": "3.5.6"
  }
 },
 "nbformat": 4,
 "nbformat_minor": 2
}
