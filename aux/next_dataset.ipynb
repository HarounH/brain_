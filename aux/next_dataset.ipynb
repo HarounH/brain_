{
 "cells": [
  {
   "cell_type": "code",
   "execution_count": 1,
   "metadata": {},
   "outputs": [],
   "source": [
    "%matplotlib inline\n",
    "%load_ext autoreload\n",
    "%autoreload 2\n",
    "import os\n",
    "import time\n",
    "import matplotlib.pyplot as plt\n",
    "import numpy as np\n",
    "import pandas as pd\n",
    "import torch\n",
    "import pickle"
   ]
  },
  {
   "cell_type": "markdown",
   "metadata": {},
   "source": [
    "## UCI datasets\n",
    "Check: <https://archive.ics.uci.edu/ml/datasets.html?sort=nameUp&view=list>\n",
    "\n",
    "Many of these are far too old... but some are hierarchical. Consider the following which are potentially hierarchical variable, but also pretty old.\n",
    "**Cervical Cancer diagnosis**: <https://archive.ics.uci.edu/ml/datasets/Cervical+cancer+%28Risk+Factors%29>\n",
    "**Car Evaluation Model**: <https://archive.ics.uci.edu/ml/datasets/Car+Evaluation>\n",
    "**Nursery**: <https://archive.ics.uci.edu/ml/datasets/Nursery>"
   ]
  },
  {
   "cell_type": "markdown",
   "metadata": {},
   "source": [
    "## PGM based\n",
    "\n",
    "A promising one was <http://science.sciencemag.org/content/sci/353/6301/790.full.pdf>. But the ML part of it is that it uses a conv net on satellite imagery..."
   ]
  },
  {
   "cell_type": "markdown",
   "metadata": {},
   "source": [
    "## Medical data\n",
    "Scroll down to 3: EHR data - <https://github.com/beamandrew/medical-data>\n",
    "Unfortunately, its not easy to get started on these."
   ]
  },
  {
   "cell_type": "markdown",
   "metadata": {},
   "source": [
    "## KDD datasets survey (circa 2000)\n",
    "Refer to <http://citeseerx.ist.psu.edu/viewdoc/download?doi=10.1.1.445.4559&rep=rep1&type=pdf>"
   ]
  },
  {
   "cell_type": "markdown",
   "metadata": {},
   "source": [
    "## El Nino Dataset (Promising, but have to do autoregression and cluster the buoys manually)\n",
    "Reference: <https://archive.ics.uci.edu/ml/datasets/El+Nino>\n",
    "tao_all2.missing must be per observation, starting at latitude/longitude.\n",
    "\n",
    "Unfortunately, no labels are available - its more of a time series evolution kinda task\n",
    "\n",
    "## Datasets continue after these few code blocks"
   ]
  },
  {
   "cell_type": "code",
   "execution_count": 40,
   "metadata": {
    "scrolled": false
   },
   "outputs": [
    {
     "name": "stdout",
     "output_type": "stream",
     "text": [
      "Columns: ['buoy', 'day', 'latitude', 'longitude', 'zon.winds', 'mer.winds', 'humidity', 'air temp.', 's.s.temp.']\n"
     ]
    }
   ],
   "source": [
    "base_dir = \"data/elnino/\"\n",
    "elnino_file = \"elnino\"\n",
    "with open(os.path.join(base_dir, \"elnino.col\")) as f:\n",
    "    elnino_cols = [line.strip() for line in f]\n",
    "\n",
    "elnino_df = pd.read_csv(os.path.join(base_dir, elnino_file), delim_whitespace=True, header=None)\n",
    "elnino_df.columns = elnino_cols\n",
    "print(\"Columns: {}\".format(elnino_cols))"
   ]
  },
  {
   "cell_type": "code",
   "execution_count": 39,
   "metadata": {},
   "outputs": [
    {
     "name": "stdout",
     "output_type": "stream",
     "text": [
      "Columns: ['obs', 'year', 'month', 'day', 'date', 'latitude', 'longitude', 'zon.winds', 'mer.winds', 'humidity', 'air temp.', 's.s.temp.']\n"
     ]
    }
   ],
   "source": [
    "with open(os.path.join(base_dir, \"tao-all2.col\")) as f:\n",
    "    tao_cols = [line.strip() for line in f]\n",
    "\n",
    "tao_file = \"tao-all2.dat\"\n",
    "tao_df = pd.read_csv(os.path.join(base_dir, tao_file), delim_whitespace=True, header=None)\n",
    "tao_df.columns = tao_cols\n",
    "print(\"Columns: {}\".format(tao_cols))"
   ]
  },
  {
   "cell_type": "code",
   "execution_count": 32,
   "metadata": {},
   "outputs": [],
   "source": [
    "tao_missing_file = \"tao-all2.missing\"\n",
    "tao_missing_df = pd.read_csv(os.path.join(base_dir, tao_missing_file), delim_whitespace=True, header=None)"
   ]
  },
  {
   "cell_type": "code",
   "execution_count": 38,
   "metadata": {},
   "outputs": [
    {
     "name": "stdout",
     "output_type": "stream",
     "text": [
      "(178080, 12) (178080, 8)\n"
     ]
    }
   ],
   "source": [
    "print(tao_df.shape, tao_missing_df.shape)"
   ]
  },
  {
   "cell_type": "code",
   "execution_count": 45,
   "metadata": {},
   "outputs": [
    {
     "data": {
      "text/plain": [
       "<matplotlib.axes._subplots.AxesSubplot at 0x7fbf111026d8>"
      ]
     },
     "execution_count": 45,
     "metadata": {},
     "output_type": "execute_result"
    },
    {
     "data": {
      "image/png": "[encoded data removed]",
      "text/plain": [
       "<Figure size 432x288 with 1 Axes>"
      ]
     },
     "metadata": {
      "needs_background": "light"
     },
     "output_type": "display_data"
    }
   ],
   "source": [
    "tao_df.plot.scatter('longitude', 'latitude')"
   ]
  },
  {
   "cell_type": "markdown",
   "metadata": {},
   "source": [
    "## Google Flu Trends\n",
    "> Obtain from <https://www.google.org/flutrends/about/>\n",
    "\n",
    "Estimate of influenza per week per country.\n",
    "Standard Task: Global estimation\n",
    "Alternative task: Prediction for a country?\n",
    "\n",
    "Suitable input data, unclear what the output should be. A baseline could be Vector Autoregression.\n",
    "\n",
    "Con: Google Flu trend was bashed at one point for being inconsistent\n",
    "\n",
    "## GHO\n",
    "Essentially the same as Google Flu Trends, but for a lot more diseases."
   ]
  },
  {
   "cell_type": "markdown",
   "metadata": {},
   "source": [
    "## Geo-Spatial Dataset: Wind\n",
    "Check corresponding section in <https://arxiv.org/pdf/1804.08562.pdf>. Currently unavailable due to government shutdown"
   ]
  },
  {
   "cell_type": "markdown",
   "metadata": {},
   "source": [
    "# undesirable? - gridded data\n",
    "## Precipitation data:\n",
    "Obtained from <https://iridl.ldeo.columbia.edu/> by referring to <http://proceedings.mlr.press/v80/osama18a/osama18a.pdf>. Not too clear how to get it either.\n",
    "\n",
    "## Geo-Spatial Dataset: Pacific Sea Temperature\n",
    "Gridded sea temperatures. Check corresponding section in <https://arxiv.org/pdf/1804.08562.pdf>. Not suitable since there isn't a single output to predict. (Unless we want to use upsampling-FGL). Also appears in <http://proceedings.mlr.press/v80/osama18a/osama18a.pdf>\n",
    "\n",
    "## Car Traffic Forecasting\n",
    "Not gridded but the rest is ditto as above. Also not clear how to get the Beijing dataset... Its probably here <https://onedrive.live.com/?authkey=%21ADgmvTgfqs4hn4Q&cid=CF159105855090C5&id=CF159105855090C5%2141466&parId=CF159105855090C5%211438&action=defaultclick>"
   ]
  },
  {
   "cell_type": "markdown",
   "metadata": {},
   "source": [
    "## Spatio-Temporal datasets\n",
    "Information from: <http://faculty.missouri.edu/~wiklec/datasets.html>\n",
    "**Eurasian Collared Dove Breeding Bird Survey Data**: Too small.\n",
    "**Tropical Pacific Sea Surface Temperature**: Gridded, but also pretty small. Similar to the Pacific Sea Temperature dataset from a little earlier.\n",
    "**Gridded Tornado Report Data**: 1836 locations, but only 49 values per location."
   ]
  },
  {
   "cell_type": "markdown",
   "metadata": {},
   "source": [
    "## Market trend prediction\n",
    "Couldn't find any recent papers at ML conferences or sizable datasets."
   ]
  },
  {
   "cell_type": "code",
   "execution_count": null,
   "metadata": {},
   "outputs": [],
   "source": []
  }
 ],
 "metadata": {
  "kernelspec": {
   "display_name": "Python 3",
   "language": "python",
   "name": "python3"
  },
  "language_info": {
   "codemirror_mode": {
    "name": "ipython",
    "version": 3
   },
   "file_extension": ".py",
   "mimetype": "text/x-python",
   "name": "python",
   "nbconvert_exporter": "python",
   "pygments_lexer": "ipython3",
   "version": "3.6.6"
  }
 },
 "nbformat": 4,
 "nbformat_minor": 2
}
