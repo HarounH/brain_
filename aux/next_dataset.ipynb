{
 "cells": [
  {
   "cell_type": "code",
   "execution_count": 2,
   "metadata": {},
   "outputs": [],
   "source": [
    "%matplotlib inline\n",
    "%load_ext autoreload\n",
    "%autoreload 2\n",
    "import os\n",
    "import time\n",
    "import matplotlib.pyplot as plt\n",
    "import numpy as np\n",
    "import pandas as pd\n",
    "import torch\n",
    "import pickle\n",
    "import cairo"
   ]
  },
  {
   "cell_type": "markdown",
   "metadata": {},
   "source": [
    "## UCI datasets\n",
    "Check: <https://archive.ics.uci.edu/ml/datasets.html?sort=nameUp&view=list>\n",
    "\n",
    "Many of these are far too old... but some are hierarchical. Consider the following which are potentially hierarchical variable, but also pretty old.\n",
    "**Cervical Cancer diagnosis**: <https://archive.ics.uci.edu/ml/datasets/Cervical+cancer+%28Risk+Factors%29>\n",
    "**Car Evaluation Model**: <https://archive.ics.uci.edu/ml/datasets/Car+Evaluation>\n",
    "**Nursery**: <https://archive.ics.uci.edu/ml/datasets/Nursery>"
   ]
  },
  {
   "cell_type": "markdown",
   "metadata": {},
   "source": [
    "## PGM based\n",
    "\n",
    "A promising one was <http://science.sciencemag.org/content/sci/353/6301/790.full.pdf>. But the ML part of it is that it uses a conv net on satellite imagery..."
   ]
  },
  {
   "cell_type": "markdown",
   "metadata": {},
   "source": [
    "## Medical data\n",
    "Scroll down to 3: EHR data - <https://github.com/beamandrew/medical-data>\n",
    "Unfortunately, its not easy to get started on these."
   ]
  },
  {
   "cell_type": "markdown",
   "metadata": {},
   "source": [
    "## KDD datasets survey (circa 2000)\n",
    "Refer to <http://citeseerx.ist.psu.edu/viewdoc/download?doi=10.1.1.445.4559&rep=rep1&type=pdf>"
   ]
  },
  {
   "cell_type": "markdown",
   "metadata": {},
   "source": [
    "## El Nino Dataset (Promising, but have to do autoregression and cluster the buoys manually)\n",
    "Reference: <https://archive.ics.uci.edu/ml/datasets/El+Nino>\n",
    "tao_all2.missing must be per observation, starting at latitude/longitude.\n",
    "\n",
    "Unfortunately, no labels are available - its more of a time series evolution kinda task\n",
    "\n",
    "## Datasets continue after these few code blocks"
   ]
  },
  {
   "cell_type": "code",
   "execution_count": 40,
   "metadata": {
    "scrolled": false
   },
   "outputs": [
    {
     "name": "stdout",
     "output_type": "stream",
     "text": [
      "Columns: ['buoy', 'day', 'latitude', 'longitude', 'zon.winds', 'mer.winds', 'humidity', 'air temp.', 's.s.temp.']\n"
     ]
    }
   ],
   "source": [
    "base_dir = \"data/elnino/\"\n",
    "elnino_file = \"elnino\"\n",
    "with open(os.path.join(base_dir, \"elnino.col\")) as f:\n",
    "    elnino_cols = [line.strip() for line in f]\n",
    "\n",
    "elnino_df = pd.read_csv(os.path.join(base_dir, elnino_file), delim_whitespace=True, header=None)\n",
    "elnino_df.columns = elnino_cols\n",
    "print(\"Columns: {}\".format(elnino_cols))"
   ]
  },
  {
   "cell_type": "code",
   "execution_count": 39,
   "metadata": {},
   "outputs": [
    {
     "name": "stdout",
     "output_type": "stream",
     "text": [
      "Columns: ['obs', 'year', 'month', 'day', 'date', 'latitude', 'longitude', 'zon.winds', 'mer.winds', 'humidity', 'air temp.', 's.s.temp.']\n"
     ]
    }
   ],
   "source": [
    "with open(os.path.join(base_dir, \"tao-all2.col\")) as f:\n",
    "    tao_cols = [line.strip() for line in f]\n",
    "\n",
    "tao_file = \"tao-all2.dat\"\n",
    "tao_df = pd.read_csv(os.path.join(base_dir, tao_file), delim_whitespace=True, header=None)\n",
    "tao_df.columns = tao_cols\n",
    "print(\"Columns: {}\".format(tao_cols))"
   ]
  },
  {
   "cell_type": "code",
   "execution_count": 32,
   "metadata": {},
   "outputs": [],
   "source": [
    "tao_missing_file = \"tao-all2.missing\"\n",
    "tao_missing_df = pd.read_csv(os.path.join(base_dir, tao_missing_file), delim_whitespace=True, header=None)"
   ]
  },
  {
   "cell_type": "code",
   "execution_count": 38,
   "metadata": {},
   "outputs": [
    {
     "name": "stdout",
     "output_type": "stream",
     "text": [
      "(178080, 12) (178080, 8)\n"
     ]
    }
   ],
   "source": [
    "print(tao_df.shape, tao_missing_df.shape)"
   ]
  },
  {
   "cell_type": "code",
   "execution_count": 45,
   "metadata": {},
   "outputs": [
    {
     "data": {
      "text/plain": [
       "<matplotlib.axes._subplots.AxesSubplot at 0x7fbf111026d8>"
      ]
     },
     "execution_count": 45,
     "metadata": {},
     "output_type": "execute_result"
    },
    {
     "data": {
      "image/png": "[encoded data removed]",
      "text/plain": [
       "<Figure size 432x288 with 1 Axes>"
      ]
     },
     "metadata": {
      "needs_background": "light"
     },
     "output_type": "display_data"
    }
   ],
   "source": [
    "tao_df.plot.scatter('longitude', 'latitude')"
   ]
  },
  {
   "cell_type": "markdown",
   "metadata": {},
   "source": [
    "## Google Flu Trends\n",
    "> Obtain from <https://www.google.org/flutrends/about/>\n",
    "\n",
    "Estimate of influenza per week per country.\n",
    "Standard Task: Global estimation\n",
    "Alternative task: Prediction for a country?\n",
    "\n",
    "Suitable input data, unclear what the output should be. A baseline could be Vector Autoregression.\n",
    "\n",
    "Con: Google Flu trend was bashed at one point for being inconsistent\n",
    "\n",
    "## GHO\n",
    "Essentially the same as Google Flu Trends, but for a lot more diseases."
   ]
  },
  {
   "cell_type": "markdown",
   "metadata": {},
   "source": [
    "## Geo-Spatial Dataset: Wind\n",
    "Check corresponding section in <https://arxiv.org/pdf/1804.08562.pdf>. Currently unavailable due to government shutdown"
   ]
  },
  {
   "cell_type": "markdown",
   "metadata": {},
   "source": [
    "# undesirable? - gridded data\n",
    "## Precipitation data:\n",
    "Obtained from <https://iridl.ldeo.columbia.edu/> by referring to <http://proceedings.mlr.press/v80/osama18a/osama18a.pdf>. Not too clear how to get it either.\n",
    "\n",
    "## Geo-Spatial Dataset: Pacific Sea Temperature\n",
    "Gridded sea temperatures. Check corresponding section in <https://arxiv.org/pdf/1804.08562.pdf>. Not suitable since there isn't a single output to predict. (Unless we want to use upsampling-FGL). Also appears in <http://proceedings.mlr.press/v80/osama18a/osama18a.pdf>\n",
    "\n",
    "## Car Traffic Forecasting\n",
    "Not gridded but the rest is ditto as above. Also not clear how to get the Beijing dataset... Its probably here <https://onedrive.live.com/?authkey=%21ADgmvTgfqs4hn4Q&cid=CF159105855090C5&id=CF159105855090C5%2141466&parId=CF159105855090C5%211438&action=defaultclick>"
   ]
  },
  {
   "cell_type": "markdown",
   "metadata": {},
   "source": [
    "## Spatio-Temporal datasets\n",
    "Information from: <http://faculty.missouri.edu/~wiklec/datasets.html>\n",
    "**Eurasian Collared Dove Breeding Bird Survey Data**: Too small.\n",
    "**Tropical Pacific Sea Surface Temperature**: Gridded, but also pretty small. Similar to the Pacific Sea Temperature dataset from a little earlier.\n",
    "**Gridded Tornado Report Data**: 1836 locations, but only 49 values per location."
   ]
  },
  {
   "cell_type": "markdown",
   "metadata": {},
   "source": [
    "## Market trend prediction\n",
    "Couldn't find any recent papers at ML conferences or sizable datasets."
   ]
  },
  {
   "cell_type": "markdown",
   "metadata": {},
   "source": [
    "### Not so clever dataset"
   ]
  },
  {
   "cell_type": "code",
   "execution_count": 46,
   "metadata": {},
   "outputs": [],
   "source": [
    "import numpy as np\n",
    "import torch\n",
    "import skimage.draw as skdraw"
   ]
  },
  {
   "cell_type": "code",
   "execution_count": 63,
   "metadata": {},
   "outputs": [
    {
     "data": {
      "text/plain": [
       "<matplotlib.image.AxesImage at 0x7fbf0a2667b8>"
      ]
     },
     "execution_count": 63,
     "metadata": {},
     "output_type": "execute_result"
    },
    {
     "data": {
      "image/png": "[encoded data removed]",
      "text/plain": [
       "<Figure size 432x288 with 1 Axes>"
      ]
     },
     "metadata": {
      "needs_background": "light"
     },
     "output_type": "display_data"
    }
   ],
   "source": [
    "img = np.zeros((128, 128))\n",
    "plt.imshow(img, cmap='gray')"
   ]
  },
  {
   "cell_type": "code",
   "execution_count": 64,
   "metadata": {},
   "outputs": [
    {
     "data": {
      "text/plain": [
       "<matplotlib.image.AxesImage at 0x7fbf0a1c6390>"
      ]
     },
     "execution_count": 64,
     "metadata": {},
     "output_type": "execute_result"
    },
    {
     "data": {
      "image/png": "[encoded data removed]",
      "text/plain": [
       "<Figure size 432x288 with 1 Axes>"
      ]
     },
     "metadata": {
      "needs_background": "light"
     },
     "output_type": "display_data"
    }
   ],
   "source": [
    "img = np.zeros((128, 128))\n",
    "img[10, 10] = 1\n",
    "plt.imshow(img, cmap='gray')"
   ]
  },
  {
   "cell_type": "code",
   "execution_count": 162,
   "metadata": {},
   "outputs": [
    {
     "data": {
      "text/plain": [
       "<matplotlib.image.AxesImage at 0x7fbf09b26748>"
      ]
     },
     "execution_count": 162,
     "metadata": {},
     "output_type": "execute_result"
    },
    {
     "data": {
      "image/png": "[encoded data removed]",
      "text/plain": [
       "<Figure size 432x288 with 1 Axes>"
      ]
     },
     "metadata": {
      "needs_background": "light"
     },
     "output_type": "display_data"
    }
   ],
   "source": [
    "# circle\n",
    "img = np.zeros((128, 128))\n",
    "rr, cc = skdraw.circle(10, 20, 5)\n",
    "img[rr, cc] = 1\n",
    "# print(rr)\n",
    "# print(cc)\n",
    "plt.imshow(img, cmap='gray', origin='lower')\n"
   ]
  },
  {
   "cell_type": "code",
   "execution_count": 69,
   "metadata": {},
   "outputs": [
    {
     "data": {
      "text/plain": [
       "<matplotlib.image.AxesImage at 0x7fbf0a011c50>"
      ]
     },
     "execution_count": 69,
     "metadata": {},
     "output_type": "execute_result"
    },
    {
     "data": {
      "image/png": "[encoded data removed]",
      "text/plain": [
       "<Figure size 432x288 with 1 Axes>"
      ]
     },
     "metadata": {
      "needs_background": "light"
     },
     "output_type": "display_data"
    }
   ],
   "source": [
    "# square\n",
    "img = np.zeros((64, 64))\n",
    "rows = np.array([5, 5, 10, 10])\n",
    "cols = np.array([5, 10, 10, 5])\n",
    "rr, cc = skdraw.polygon(rows, cols)\n",
    "img[rr, cc] = 1\n",
    "plt.imshow(img, cmap='gray', origin='lower')"
   ]
  },
  {
   "cell_type": "code",
   "execution_count": 58,
   "metadata": {},
   "outputs": [],
   "source": [
    "s = 128\n",
    "l = 5\n",
    "r = 4\n",
    "xs, ys = np.meshgrid(list(range(s)), list(range(s)))"
   ]
  },
  {
   "cell_type": "code",
   "execution_count": 70,
   "metadata": {},
   "outputs": [],
   "source": [
    "xys = np.reshape(np.stack([xs, ys], axis=-1), (-1, 2))"
   ]
  },
  {
   "cell_type": "code",
   "execution_count": 120,
   "metadata": {},
   "outputs": [],
   "source": [
    "# Quadrant-like\n",
    "s = 128\n",
    "l = 3\n",
    "r = 5\n",
    "\n",
    "square_r = lambda x: x + np.array([- (l // 2), - (l // 2), l // 2, l // 2])\n",
    "square_c = lambda y: y + np.array([-(l // 2), l // 2, l // 2, -(l // 2)])\n",
    "circle_r = lambda x: x\n",
    "circle_c = lambda y: y\n",
    "\n",
    "xpos, ypos = np.meshgrid(list(range(s)), list(range(s)))\n",
    "xypos = np.stack([xpos, ypos], axis=-1)\n",
    "\n",
    "quadrants_dict = {\n",
    "    0: np.logical_and(xpos < s//2, ypos < s//2),\n",
    "    1: np.logical_and(xpos > s//2, ypos < s//2),\n",
    "    2: np.logical_and(xpos > s//2, ypos > s//2),\n",
    "    3: np.logical_and(xpos < s//2, ypos > s//2),\n",
    "}\n",
    "\n",
    "# Shapes have to present entirely within a quadrant for this to make sense.\n",
    "valid_center = {\n",
    "    'circle': {\n",
    "        0: np.logical_and(\n",
    "            quadrants_dict[0],\n",
    "            np.logical_and(\n",
    "                np.logical_and(xpos > r - 1, xpos < s // 2 - r + 1),\n",
    "                np.logical_and(ypos > r - 1, ypos < s // 2 - r + 1),\n",
    "            )\n",
    "        ),\n",
    "        1: np.logical_and(\n",
    "            quadrants_dict[1],\n",
    "            np.logical_and(\n",
    "                np.logical_and(xpos > s // 2 + r - 1, xpos < s - r + 1),\n",
    "                np.logical_and(ypos > r - 1, ypos < s // 2 - r + 1),\n",
    "            )\n",
    "        ),\n",
    "        2: np.logical_and(\n",
    "            quadrants_dict[2],\n",
    "            np.logical_and(\n",
    "                np.logical_and(xpos > s // 2 + r - 1, xpos < s - r + 1),\n",
    "                np.logical_and(ypos > s // 2 + r - 1, ypos < s - r + 1),\n",
    "            )\n",
    "        ),\n",
    "        3: np.logical_and(\n",
    "            quadrants_dict[3],\n",
    "            np.logical_and(\n",
    "                np.logical_and(xpos > r - 1, xpos < s // 2 - r + 1),\n",
    "                np.logical_and(ypos > s // 2 + r - 1, ypos < s - r + 1),\n",
    "            )\n",
    "        ),\n",
    "    },\n",
    "    'square': {\n",
    "        0: np.logical_and(\n",
    "            quadrants_dict[0],\n",
    "            np.logical_and(\n",
    "                np.logical_and(xpos > l - 1, xpos < s // 2 - l + 1),\n",
    "                np.logical_and(ypos > l - 1, ypos < s // 2 - l + 1),\n",
    "            )\n",
    "        ),\n",
    "        1: np.logical_and(\n",
    "            quadrants_dict[1],\n",
    "            np.logical_and(\n",
    "                np.logical_and(xpos > s // 2 + l - 1, xpos < s - l + 1),\n",
    "                np.logical_and(ypos > l - 1, ypos < s // 2 - l + 1),\n",
    "            )\n",
    "        ),\n",
    "        2: np.logical_and(\n",
    "            quadrants_dict[2],\n",
    "            np.logical_and(\n",
    "                np.logical_and(xpos > s // 2 + l - 1, xpos < s - l + 1),\n",
    "                np.logical_and(ypos > s // 2 + l - 1, ypos < s - l + 1),\n",
    "            )\n",
    "        ),\n",
    "        3: np.logical_and(\n",
    "            quadrants_dict[3],\n",
    "            np.logical_and(\n",
    "                np.logical_and(xpos > l - 1, xpos < s // 2 - l + 1),\n",
    "                np.logical_and(ypos > s // 2 + l - 1, ypos < s - l + 1),\n",
    "            )\n",
    "        ),\n",
    "    },\n",
    "}\n",
    "\n",
    "valid_centers = {\n",
    "    i: xypos[np.logical_or(\n",
    "        np.logical_or(v[0], v[1]),\n",
    "        np.logical_or(v[2], v[3]),\n",
    "    )] for i, v in valid_center.items()\n",
    "}"
   ]
  },
  {
   "cell_type": "code",
   "execution_count": 111,
   "metadata": {},
   "outputs": [
    {
     "data": {
      "text/plain": [
       "<matplotlib.image.AxesImage at 0x7fbf09bf4208>"
      ]
     },
     "execution_count": 111,
     "metadata": {},
     "output_type": "execute_result"
    },
    {
     "data": {
      "image/png": "[encoded data removed]",
      "text/plain": [
       "<Figure size 432x288 with 1 Axes>"
      ]
     },
     "metadata": {
      "needs_background": "light"
     },
     "output_type": "display_data"
    }
   ],
   "source": [
    "plt.imshow(valid_center['circle'], cmap='gray', origin='lower')"
   ]
  },
  {
   "cell_type": "code",
   "execution_count": 126,
   "metadata": {},
   "outputs": [
    {
     "data": {
      "text/plain": [
       "array([[  3,   3],\n",
       "       [  4,   3],\n",
       "       [  5,   3],\n",
       "       ...,\n",
       "       [123, 125],\n",
       "       [124, 125],\n",
       "       [125, 125]])"
      ]
     },
     "execution_count": 126,
     "metadata": {},
     "output_type": "execute_result"
    }
   ],
   "source": [
    "valid_centers['square']"
   ]
  },
  {
   "cell_type": "code",
   "execution_count": 117,
   "metadata": {},
   "outputs": [],
   "source": [
    "quadrants = sum(i * v.astype(np.float) for i, v in quadrants_dict.items())"
   ]
  },
  {
   "cell_type": "code",
   "execution_count": 119,
   "metadata": {},
   "outputs": [
    {
     "data": {
      "text/plain": [
       "<matplotlib.image.AxesImage at 0x7fbf09bcccc0>"
      ]
     },
     "execution_count": 119,
     "metadata": {},
     "output_type": "execute_result"
    },
    {
     "data": {
      "image/png": "[encoded data removed]",
      "text/plain": [
       "<Figure size 432x288 with 1 Axes>"
      ]
     },
     "metadata": {
      "needs_background": "light"
     },
     "output_type": "display_data"
    }
   ],
   "source": [
    "plt.imshow(quadrants)"
   ]
  },
  {
   "cell_type": "markdown",
   "metadata": {},
   "source": [
    "### Take 2 at toy dataset"
   ]
  },
  {
   "cell_type": "code",
   "execution_count": 170,
   "metadata": {},
   "outputs": [],
   "source": [
    "# Quadrant-like\n",
    "s = 128\n",
    "l = 9\n",
    "r = 5\n",
    "\n",
    "square_r = lambda x: x + np.array([- (l // 2), - (l // 2), l // 2, l // 2])\n",
    "square_c = lambda y: y + np.array([-(l // 2), l // 2, l // 2, -(l // 2)])\n",
    "circle_r = lambda x: x\n",
    "circle_c = lambda y: y\n",
    "\n",
    "ypos, xpos = np.meshgrid(list(range(s)), list(range(s)))\n",
    "xypos = np.stack([xpos, ypos], axis=-1)\n",
    "\n",
    "quadrants_dict = {\n",
    "    0: np.logical_and(xpos < s//2, ypos < s//2),\n",
    "    1: np.logical_and(xpos >= s//2, ypos < s//2),\n",
    "    2: np.logical_and(xpos >= s//2, ypos >= s//2),\n",
    "    3: np.logical_and(xpos < s//2, ypos >= s//2),\n",
    "}\n",
    "quadrants = sum(i * v.astype(np.float) for i, v in quadrants_dict.items())\n",
    "# circle is more likely in quadrant 2 and less likely in quadrant 0.\n",
    "# square is more likely in quadrant 0 and less in quadrant 2. \n",
    "# This\n",
    "# Shapes have to present entirely within a quadrant for this to make sense.\n",
    "# offset padding = 3\n",
    "offpad = 6\n",
    "valid_center = {\n",
    "    'circle': {\n",
    "        0: np.logical_and(\n",
    "            quadrants_dict[0],\n",
    "            np.logical_and(\n",
    "                np.logical_and(xpos > r - 1 + offpad, xpos < s // 2 - r + 1 - offpad),\n",
    "                np.logical_and(ypos > r - 1 + offpad, ypos < s // 2 - r + 1 - offpad),\n",
    "            )\n",
    "        ),\n",
    "        1: np.logical_and(\n",
    "            quadrants_dict[1],\n",
    "            np.logical_and(\n",
    "                np.logical_and(xpos > s // 2 + r - 1 + offpad // 2, xpos < s - r + 1 - offpad // 2),\n",
    "                np.logical_and(ypos > r - 1 + offpad // 2, ypos < s // 2 - r + 1 - offpad // 2),\n",
    "            )\n",
    "        ),\n",
    "        2: np.logical_and(\n",
    "            quadrants_dict[2],\n",
    "            np.logical_and(\n",
    "                np.logical_and(xpos > s // 2 + r - 1, xpos < s - r + 1),\n",
    "                np.logical_and(ypos > s // 2 + r - 1, ypos < s - r + 1),\n",
    "            )\n",
    "        ),\n",
    "        3: np.logical_and(\n",
    "            quadrants_dict[3],\n",
    "            np.logical_and(\n",
    "                np.logical_and(xpos > r - 1 + offpad // 2, xpos < s // 2 - r + 1 - offpad // 2),\n",
    "                np.logical_and(ypos > s // 2 + r - 1 + offpad // 2, ypos < s - r + 1 - offpad // 2),\n",
    "            )\n",
    "        ),\n",
    "    },\n",
    "    'square': {\n",
    "        0: np.logical_and(\n",
    "            quadrants_dict[0],\n",
    "            np.logical_and(\n",
    "                np.logical_and(xpos > l // 2, xpos < s // 2 - l // 2),\n",
    "                np.logical_and(ypos > l // 2, ypos < s // 2 - l // 2),\n",
    "            )\n",
    "        ),\n",
    "        1: np.logical_and(\n",
    "            quadrants_dict[1],\n",
    "            np.logical_and(\n",
    "                np.logical_and(xpos > s // 2 + l // 2 + offpad // 2, xpos < s - l // 2 - offpad // 2),\n",
    "                np.logical_and(ypos > l // 2 + offpad // 2, ypos < s // 2 - l // 2 - offpad // 2),\n",
    "            )\n",
    "        ),\n",
    "        2: np.logical_and(\n",
    "            quadrants_dict[2],\n",
    "            np.logical_and(\n",
    "                np.logical_and(xpos > s // 2 + l // 2 + offpad, xpos < s - l // 2 - offpad),\n",
    "                np.logical_and(ypos > s // 2 + l // 2 + offpad, ypos < s - l // 2 - offpad),\n",
    "            )\n",
    "        ),\n",
    "        3: np.logical_and(\n",
    "            quadrants_dict[3],\n",
    "            np.logical_and(\n",
    "                np.logical_and(xpos > l // 2 + offpad // 2, xpos < s // 2 - l // 2 - offpad // 2),\n",
    "                np.logical_and(ypos > s // 2 + l // 2 + offpad // 2, ypos < s - l // 2 - offpad // 2),\n",
    "            )\n",
    "        ),\n",
    "    },\n",
    "}"
   ]
  },
  {
   "cell_type": "code",
   "execution_count": 171,
   "metadata": {},
   "outputs": [
    {
     "data": {
      "text/plain": [
       "(9676, 2)"
      ]
     },
     "execution_count": 171,
     "metadata": {},
     "output_type": "execute_result"
    }
   ],
   "source": [
    "sh = 'circle'\n",
    "xypos[np.logical_or(np.logical_or(valid_center[sh][0], valid_center[sh][1]), np.logical_or(valid_center[sh][2], valid_center[sh][3]))].shape"
   ]
  },
  {
   "cell_type": "code",
   "execution_count": 172,
   "metadata": {},
   "outputs": [
    {
     "data": {
      "text/plain": [
       "93624976"
      ]
     },
     "execution_count": 172,
     "metadata": {},
     "output_type": "execute_result"
    }
   ],
   "source": [
    "9676 * 9676"
   ]
  },
  {
   "cell_type": "code",
   "execution_count": 168,
   "metadata": {},
   "outputs": [],
   "source": [
    "a, b = np.array([1, 2])"
   ]
  },
  {
   "cell_type": "code",
   "execution_count": 175,
   "metadata": {},
   "outputs": [
    {
     "data": {
      "text/plain": [
       "array([0., 0., 0., 0., 0., 0., 0., 0., 0., 0., 0., 0., 0., 0., 0., 0., 0.,\n",
       "       0., 0., 0., 0., 0., 0., 0., 0., 0., 0., 0., 0., 0., 0., 0., 0., 0.,\n",
       "       0., 0., 0., 0., 0., 0., 0., 0., 0., 0., 0., 0., 0., 0., 0., 0., 0.,\n",
       "       0., 0., 0., 0., 0., 0., 0., 0., 0., 0., 0., 0., 0., 3., 3., 3., 3.,\n",
       "       3., 3., 3., 3., 3., 3., 3., 3., 3., 3., 3., 3., 3., 3., 3., 3., 3.,\n",
       "       3., 3., 3., 3., 3., 3., 3., 3., 3., 3., 3., 3., 3., 3., 3., 3., 3.,\n",
       "       3., 3., 3., 3., 3., 3., 3., 3., 3., 3., 3., 3., 3., 3., 3., 3., 3.,\n",
       "       3., 3., 3., 3., 3., 3., 3., 3., 3.])"
      ]
     },
     "execution_count": 175,
     "metadata": {},
     "output_type": "execute_result"
    }
   ],
   "source": [
    "quadrants[63]"
   ]
  },
  {
   "cell_type": "code",
   "execution_count": 176,
   "metadata": {},
   "outputs": [
    {
     "data": {
      "text/plain": [
       "<matplotlib.image.AxesImage at 0x7fbf09a86550>"
      ]
     },
     "execution_count": 176,
     "metadata": {},
     "output_type": "execute_result"
    },
    {
     "data": {
      "image/png": "[encoded data removed]",
      "text/plain": [
       "<Figure size 432x288 with 1 Axes>"
      ]
     },
     "metadata": {
      "needs_background": "light"
     },
     "output_type": "display_data"
    }
   ],
   "source": [
    "plt.imshow(quadrants / 4, cmap='gray', origin='lower')"
   ]
  },
  {
   "cell_type": "code",
   "execution_count": 182,
   "metadata": {},
   "outputs": [
    {
     "data": {
      "text/plain": [
       "array([ 10, 127])"
      ]
     },
     "execution_count": 182,
     "metadata": {},
     "output_type": "execute_result"
    }
   ],
   "source": [
    "xypos[10, 127]"
   ]
  },
  {
   "cell_type": "code",
   "execution_count": 183,
   "metadata": {},
   "outputs": [
    {
     "ename": "ModuleNotFoundError",
     "evalue": "No module named 'clevr'",
     "output_type": "error",
     "traceback": [
      "\u001b[0;31m---------------------------------------------------------------------------\u001b[0m",
      "\u001b[0;31mModuleNotFoundError\u001b[0m                       Traceback (most recent call last)",
      "\u001b[0;32m<ipython-input-183-93acf005c8c5>\u001b[0m in \u001b[0;36m<module>\u001b[0;34m\u001b[0m\n\u001b[0;32m----> 1\u001b[0;31m \u001b[0;32mfrom\u001b[0m \u001b[0mclevr\u001b[0m \u001b[0;32mimport\u001b[0m \u001b[0mdataset\u001b[0m \u001b[0;32mas\u001b[0m \u001b[0mclevr_dset\u001b[0m\u001b[0;34m\u001b[0m\u001b[0m\n\u001b[0m",
      "\u001b[0;31mModuleNotFoundError\u001b[0m: No module named 'clevr'"
     ]
    }
   ],
   "source": [
    "from clevr import dataset as clevr_dset"
   ]
  },
  {
   "cell_type": "code",
   "execution_count": 191,
   "metadata": {},
   "outputs": [],
   "source": [
    "import numpy as np\n",
    "import torch\n",
    "from torch import nn\n",
    "from torch.nn import functional as F\n",
    "\n",
    "onehots = np.pad(np.eye(3136).reshape((3136, 56, 56, 1)), ((0,0), (4,4), (4,4), (0,0)), \"constant\");\n",
    "# images = F.conv2d(onehots, np.ones((9, 9, 1, 1)), stride=1, \"SAME\")\n"
   ]
  },
  {
   "cell_type": "code",
   "execution_count": 187,
   "metadata": {},
   "outputs": [
    {
     "name": "stdout",
     "output_type": "stream",
     "text": [
      "<class 'numpy.ndarray'>\n"
     ]
    }
   ],
   "source": [
    "with tf.Session().as_default():\n",
    "    images_np = (images.eval())\n",
    "print(type(images_np))"
   ]
  },
  {
   "cell_type": "code",
   "execution_count": 188,
   "metadata": {},
   "outputs": [
    {
     "data": {
      "text/plain": [
       "(3136, 64, 64, 1)"
      ]
     },
     "execution_count": 188,
     "metadata": {},
     "output_type": "execute_result"
    }
   ],
   "source": [
    "images_np.shape"
   ]
  },
  {
   "cell_type": "code",
   "execution_count": 202,
   "metadata": {},
   "outputs": [],
   "source": [
    "onehots = np.pad(np.eye(3136).reshape((3136, 56, 56, 1)), ((0,0), (4,4), (4,4), (0,0)), \"constant\");\n",
    "images_F = F.conv2d(torch.from_numpy(onehots).squeeze().unsqueeze(1).float(), torch.ones((1, 1, 9, 9)).float(), stride=1, padding=4)"
   ]
  },
  {
   "cell_type": "code",
   "execution_count": 208,
   "metadata": {},
   "outputs": [
    {
     "data": {
      "text/plain": [
       "<matplotlib.image.AxesImage at 0x7fbeec2004a8>"
      ]
     },
     "execution_count": 208,
     "metadata": {},
     "output_type": "execute_result"
    },
    {
     "data": {
      "image/png": "[encoded data removed]",
      "text/plain": [
       "<Figure size 432x288 with 1 Axes>"
      ]
     },
     "metadata": {
      "needs_background": "light"
     },
     "output_type": "display_data"
    }
   ],
   "source": [
    "plt.imshow(images_F[10, 0].numpy(), cmap='gray', origin='lower')"
   ]
  },
  {
   "cell_type": "code",
   "execution_count": 210,
   "metadata": {},
   "outputs": [
    {
     "data": {
      "text/plain": [
       "<matplotlib.image.AxesImage at 0x7fbeec1d5860>"
      ]
     },
     "execution_count": 210,
     "metadata": {},
     "output_type": "execute_result"
    },
    {
     "data": {
      "image/png": "[encoded data removed]",
      "text/plain": [
       "<Figure size 432x288 with 1 Axes>"
      ]
     },
     "metadata": {
      "needs_background": "light"
     },
     "output_type": "display_data"
    }
   ],
   "source": [
    "plt.imshow(onehots[0, :, :, 0], cmap='gray', origin='lower')"
   ]
  },
  {
   "cell_type": "code",
   "execution_count": 211,
   "metadata": {},
   "outputs": [
    {
     "data": {
      "text/plain": [
       "array([[0., 0., 0., ..., 0., 0., 0.],\n",
       "       [0., 0., 0., ..., 0., 0., 0.],\n",
       "       [0., 0., 0., ..., 0., 0., 0.],\n",
       "       ...,\n",
       "       [0., 0., 0., ..., 0., 0., 0.],\n",
       "       [0., 0., 0., ..., 0., 0., 0.],\n",
       "       [0., 0., 0., ..., 0., 0., 0.]])"
      ]
     },
     "execution_count": 211,
     "metadata": {},
     "output_type": "execute_result"
    }
   ],
   "source": [
    "onehots[0, :, :, 0]"
   ]
  },
  {
   "cell_type": "code",
   "execution_count": 215,
   "metadata": {},
   "outputs": [
    {
     "ename": "IndexError",
     "evalue": "boolean index did not match indexed array along dimension 0; dimension is 128 but corresponding boolean dimension is 64",
     "output_type": "error",
     "traceback": [
      "\u001b[0;31m---------------------------------------------------------------------------\u001b[0m",
      "\u001b[0;31mIndexError\u001b[0m                                Traceback (most recent call last)",
      "\u001b[0;32m<ipython-input-215-949758bd03e2>\u001b[0m in \u001b[0;36m<module>\u001b[0;34m\u001b[0m\n\u001b[0;32m----> 1\u001b[0;31m \u001b[0mquadrants\u001b[0m\u001b[0;34m[\u001b[0m\u001b[0monehots\u001b[0m\u001b[0;34m[\u001b[0m\u001b[0;36m0\u001b[0m\u001b[0;34m,\u001b[0m \u001b[0;34m:\u001b[0m\u001b[0;34m,\u001b[0m \u001b[0;34m:\u001b[0m\u001b[0;34m,\u001b[0m \u001b[0;36m0\u001b[0m\u001b[0;34m]\u001b[0m\u001b[0;34m.\u001b[0m\u001b[0mastype\u001b[0m\u001b[0;34m(\u001b[0m\u001b[0mbool\u001b[0m\u001b[0;34m)\u001b[0m\u001b[0;34m]\u001b[0m\u001b[0;34m\u001b[0m\u001b[0m\n\u001b[0m",
      "\u001b[0;31mIndexError\u001b[0m: boolean index did not match indexed array along dimension 0; dimension is 128 but corresponding boolean dimension is 64"
     ]
    }
   ],
   "source": [
    "quadrants[onehots[0, :, :, 0].astype(bool)]"
   ]
  },
  {
   "cell_type": "code",
   "execution_count": 21,
   "metadata": {},
   "outputs": [],
   "source": [
    "width, height = 255, 255\n",
    "data = np.zeros(shape=(height, width, 4), dtype=np.uint8)\n",
    "surface = cairo.ImageSurface.create_for_data(\n",
    "    data, cairo.FORMAT_ARGB32, width, height)\n"
   ]
  },
  {
   "cell_type": "code",
   "execution_count": 22,
   "metadata": {},
   "outputs": [],
   "source": [
    "cr = cairo.Context(surface)\n",
    "cr.set_source_rgba(0.0, 0, 0.0, 1.0)\n",
    "cr.move_to(90, 160)\n",
    "cr.arc(90, 160, 40, 0, np.pi/4)\n",
    "cr.close_path()\n",
    "cr.fill()"
   ]
  },
  {
   "cell_type": "code",
   "execution_count": 23,
   "metadata": {},
   "outputs": [
    {
     "data": {
      "text/plain": [
       "<matplotlib.image.AxesImage at 0x7f2269d23be0>"
      ]
     },
     "execution_count": 23,
     "metadata": {},
     "output_type": "execute_result"
    },
    {
     "data": {
      "image/png": "[encoded data removed]",
      "text/plain": [
       "<Figure size 432x288 with 1 Axes>"
      ]
     },
     "metadata": {
      "needs_background": "light"
     },
     "output_type": "display_data"
    }
   ],
   "source": [
    "plt.imshow(data[:, :])#, 3], cmap='gray')"
   ]
  },
  {
   "cell_type": "code",
   "execution_count": 24,
   "metadata": {},
   "outputs": [
    {
     "data": {
      "text/plain": [
       "array([0.        , 0.00392157, 0.02352941, 0.02745098, 0.06666667,\n",
       "       0.07058824, 0.07843137, 0.11372549, 0.11764706, 0.23921569,\n",
       "       0.27058824, 0.29019608, 0.31372549, 0.38431373, 0.41960784,\n",
       "       0.43529412, 0.46666667, 0.50196078, 0.54901961, 0.56078431,\n",
       "       0.56862745, 0.59607843, 0.68627451, 0.71764706, 0.76078431,\n",
       "       0.8       , 0.82352941, 0.83137255, 0.85098039, 0.85882353,\n",
       "       0.8745098 , 0.89019608, 0.89411765, 0.9254902 , 0.92941176,\n",
       "       0.93333333, 0.97647059, 0.98823529, 0.99607843, 1.        ])"
      ]
     },
     "execution_count": 24,
     "metadata": {},
     "output_type": "execute_result"
    }
   ],
   "source": [
    "np.unique(data[:, :, 3] / 255)"
   ]
  },
  {
   "cell_type": "code",
   "execution_count": 34,
   "metadata": {},
   "outputs": [],
   "source": [
    "def wedge_adjacency(s, r, n_classes=8, complex=False):\n",
    "    pibnc = np.pi / n_classes * (1 if complex else 2)\n",
    "    img = np.zeros((s, s))\n",
    "    adj = [[] for _ in range(n_classes + 1)]\n",
    "    for c in range(n_classes):\n",
    "        x = np.zeros((s, s, 4)).astype(np.uint8)\n",
    "        surface = cairo.ImageSurface.create_for_data(\n",
    "            x, cairo.FORMAT_ARGB32, s, s)\n",
    "        cr = cairo.Context(surface)\n",
    "        cr.set_source_rgba(0, 0, 0, 1.0)\n",
    "        cr.move_to(s // 2, s // 2)\n",
    "        cr.arc(s // 2, s // 2, r, c * pibnc, (c + 1) * pibnc)\n",
    "        cr.close_path()\n",
    "        cr.fill()\n",
    "        if complex:\n",
    "            cr.set_source_rgba(0, 0, 0, 1.0)\n",
    "            cr.move_to(s // 2, s // 2)\n",
    "            cr.arc(s // 2, s // 2, r, (c + n_classes) * pibnc, (c + 1 + n_classes) * pibnc)\n",
    "            cr.close_path()\n",
    "            cr.fill()\n",
    "        img[x[:, :, 3] > 0] = c + 1\n",
    "    return img"
   ]
  },
  {
   "cell_type": "code",
   "execution_count": 35,
   "metadata": {},
   "outputs": [
    {
     "data": {
      "text/plain": [
       "<matplotlib.image.AxesImage at 0x7f2269c3c748>"
      ]
     },
     "execution_count": 35,
     "metadata": {},
     "output_type": "execute_result"
    },
    {
     "data": {
      "image/png": "[encoded data removed]",
      "text/plain": [
       "<Figure size 432x288 with 1 Axes>"
      ]
     },
     "metadata": {
      "needs_background": "light"
     },
     "output_type": "display_data"
    }
   ],
   "source": [
    "plt.imshow(wedge_adjacency(128, 32, 8, True))"
   ]
  },
  {
   "cell_type": "code",
   "execution_count": 37,
   "metadata": {},
   "outputs": [
    {
     "name": "stdout",
     "output_type": "stream",
     "text": [
      "[[1. 1. 1. ... 1. 1. 1.]\n",
      " [1. 1. 1. ... 1. 1. 1.]\n",
      " [1. 1. 1. ... 1. 1. 1.]\n",
      " ...\n",
      " [1. 1. 1. ... 1. 1. 1.]\n",
      " [1. 1. 1. ... 1. 1. 1.]\n",
      " [1. 1. 1. ... 1. 1. 1.]]\n"
     ]
    },
    {
     "data": {
      "image/png": "[encoded data removed]",
      "text/plain": [
       "<Figure size 432x288 with 1 Axes>"
      ]
     },
     "metadata": {
      "needs_background": "light"
     },
     "output_type": "display_data"
    }
   ],
   "source": [
    "x = np.zeros((s, s, 4)).astype(np.uint8)\n",
    "surface = cairo.ImageSurface.create_for_data(\n",
    "    x, cairo.FORMAT_ARGB32, s, s)\n",
    "cr = cairo.Context(surface)\n",
    "cr.set_source_rgba(0, 0, 0, 1.0)\n",
    "cr.move_to(s//2, s//2)\n",
    "cr.arc(s//2, s//2, r, 0, 2 * np.pi)\n",
    "cr.close_path()\n",
    "cr.fill()\n",
    "non_wedge = (x[:, :, 3] == 0).astype(np.float32)\n",
    "plt.imshow(non_wedge)\n",
    "print(non_wedge)"
   ]
  },
  {
   "cell_type": "code",
   "execution_count": 38,
   "metadata": {},
   "outputs": [
    {
     "data": {
      "text/plain": [
       "0.0"
      ]
     },
     "execution_count": 38,
     "metadata": {},
     "output_type": "execute_result"
    }
   ],
   "source": [
    "non_wedge[64, 64]"
   ]
  },
  {
   "cell_type": "code",
   "execution_count": 44,
   "metadata": {},
   "outputs": [
    {
     "data": {
      "text/plain": [
       "<matplotlib.image.AxesImage at 0x7f22687f04e0>"
      ]
     },
     "execution_count": 44,
     "metadata": {},
     "output_type": "execute_result"
    },
    {
     "data": {
      "image/png": "[encoded data removed]",
      "text/plain": [
       "<Figure size 432x288 with 1 Axes>"
      ]
     },
     "metadata": {
      "needs_background": "light"
     },
     "output_type": "display_data"
    }
   ],
   "source": [
    "x = np.zeros((s, s, 4)).astype(np.uint8)\n",
    "surface = cairo.ImageSurface.create_for_data(\n",
    "    x, cairo.FORMAT_ARGB32, s, s)\n",
    "cr = cairo.Context(surface)\n",
    "r1 = cairo.RadialGradient(s // 2, s // 2, r // 4, s // 2, s // 2, r)\n",
    "r1.add_color_stop_rgba(0, 1, 0, 0, 1)\n",
    "r1.add_color_stop_rgba(1, 0, 1, 0, 1)\n",
    "cr.set_source(r1)\n",
    "cr.move_to(s//2, s//2)\n",
    "cr.arc(s//2, s//2, 5 * r, 0, 2 * np.pi)\n",
    "cr.close_path()\n",
    "cr.fill()\n",
    "plt.imshow(x.astype(np.float32)[:, :, [2, 1, 0, 3]] / 255)"
   ]
  },
  {
   "cell_type": "code",
   "execution_count": null,
   "metadata": {},
   "outputs": [],
   "source": []
  }
 ],
 "metadata": {
  "kernelspec": {
   "display_name": "Python 3",
   "language": "python",
   "name": "python3"
  },
  "language_info": {
   "codemirror_mode": {
    "name": "ipython",
    "version": 3
   },
   "file_extension": ".py",
   "mimetype": "text/x-python",
   "name": "python",
   "nbconvert_exporter": "python",
   "pygments_lexer": "ipython3",
   "version": "3.6.6"
  }
 },
 "nbformat": 4,
 "nbformat_minor": 2
}
