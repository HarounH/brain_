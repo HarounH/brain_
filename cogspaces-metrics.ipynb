{
 "cells": [
  {
   "cell_type": "code",
   "execution_count": 67,
   "metadata": {},
   "outputs": [],
   "source": [
    "import pickle\n",
    "import numpy as np\n",
    "with open('/data/cogspaces_data/compare/accuracies.pkl', 'rb') as f:\n",
    "    acc = pickle.load(f)\n",
    "with open('/data/cogspaces_data/compare/contrasts_metrics.pkl', 'rb') as f:\n",
    "    cme = pickle.load(f)"
   ]
  },
  {
   "cell_type": "code",
   "execution_count": 70,
   "metadata": {},
   "outputs": [
    {
     "data": {
      "text/plain": [
       "0.8305698005698005"
      ]
     },
     "execution_count": 70,
     "metadata": {},
     "output_type": "execute_result"
    }
   ],
   "source": [
    "acc['accuracy']['logistic']['archi'].mean()"
   ]
  },
  {
   "cell_type": "code",
   "execution_count": 29,
   "metadata": {},
   "outputs": [
    {
     "data": {
      "text/plain": [
       "study\n",
       "amalric2012mathematicians    0.906926\n",
       "archi                        0.928441\n",
       "brainomics                   0.955181\n",
       "camcan                       0.782041\n",
       "cauvet2009muslang            0.707226\n",
       "devauchelle2009sentence      0.666199\n",
       "ds001                        0.764015\n",
       "ds002                        0.741071\n",
       "ds003                        0.704762\n",
       "ds005                        0.778472\n",
       "ds006A                       0.542560\n",
       "ds007                        0.555992\n",
       "ds008                        0.533557\n",
       "ds009                        0.695305\n",
       "ds011                        0.789560\n",
       "ds017A                       0.674167\n",
       "ds017B                       0.751250\n",
       "ds051                        0.587946\n",
       "ds052                        0.637500\n",
       "ds101                        0.521429\n",
       "ds105                        0.756481\n",
       "ds107                        0.900800\n",
       "ds108                        0.632039\n",
       "ds109                        0.734259\n",
       "ds110                        0.557778\n",
       "ds114                        0.733333\n",
       "ds116                        0.682804\n",
       "gauthier2009resonance        0.655321\n",
       "gauthier2010resonance        0.728424\n",
       "hcp                          0.948070\n",
       "henson2010faces              0.808333\n",
       "knops2009recruitment         0.650495\n",
       "la5c                         0.778513\n",
       "pinel2009twins               0.939593\n",
       "vagharchakian2012temporal    0.769071\n",
       "Name: bacc, dtype: float64"
      ]
     },
     "execution_count": 29,
     "metadata": {},
     "output_type": "execute_result"
    }
   ],
   "source": [
    "cme.loc[cme.estimator == 'nl_multi_study'].groupby('study').bacc.mean()"
   ]
  },
  {
   "cell_type": "code",
   "execution_count": 30,
   "metadata": {},
   "outputs": [
    {
     "data": {
      "text/plain": [
       "study\n",
       "amalric2012mathematicians    0.909741\n",
       "archi                        0.930813\n",
       "brainomics                   0.955457\n",
       "camcan                       0.790567\n",
       "cauvet2009muslang            0.707301\n",
       "devauchelle2009sentence      0.666935\n",
       "ds001                        0.765720\n",
       "ds002                        0.741288\n",
       "ds003                        0.702381\n",
       "ds005                        0.775000\n",
       "ds006A                       0.541964\n",
       "ds007                        0.556663\n",
       "ds008                        0.533859\n",
       "ds009                        0.701964\n",
       "ds011                        0.793040\n",
       "ds017A                       0.679167\n",
       "ds017B                       0.744167\n",
       "ds051                        0.588839\n",
       "ds052                        0.637500\n",
       "ds101                        0.525000\n",
       "ds105                        0.762963\n",
       "ds107                        0.905333\n",
       "ds108                        0.634863\n",
       "ds109                        0.729938\n",
       "ds110                        0.559704\n",
       "ds114                        0.732667\n",
       "ds116                        0.689153\n",
       "gauthier2009resonance        0.659901\n",
       "gauthier2010resonance        0.735470\n",
       "hcp                          0.951604\n",
       "henson2010faces              0.805208\n",
       "knops2009recruitment         0.651649\n",
       "la5c                         0.787305\n",
       "pinel2009twins               0.941690\n",
       "vagharchakian2012temporal    0.776603\n",
       "Name: bacc, dtype: float64"
      ]
     },
     "execution_count": 30,
     "metadata": {},
     "output_type": "execute_result"
    }
   ],
   "source": [
    "cme.loc[cme.estimator == 'multi_study'].groupby('study').bacc.mean()"
   ]
  },
  {
   "cell_type": "code",
   "execution_count": 32,
   "metadata": {},
   "outputs": [
    {
     "data": {
      "text/plain": [
       "-0.0020714953692950195"
      ]
     },
     "execution_count": 32,
     "metadata": {},
     "output_type": "execute_result"
    }
   ],
   "source": [
    "(cme.loc[cme.estimator == 'nl_multi_study'].groupby('study').bacc.mean() - cme.loc[cme.estimator == 'multi_study'].groupby('study').bacc.mean()).mean()"
   ]
  },
  {
   "cell_type": "code",
   "execution_count": 34,
   "metadata": {},
   "outputs": [
    {
     "data": {
      "text/plain": [
       "study\n",
       "amalric2012mathematicians    False\n",
       "archi                        False\n",
       "brainomics                   False\n",
       "camcan                       False\n",
       "cauvet2009muslang            False\n",
       "devauchelle2009sentence      False\n",
       "ds001                        False\n",
       "ds002                        False\n",
       "ds003                         True\n",
       "ds005                         True\n",
       "ds006A                        True\n",
       "ds007                        False\n",
       "ds008                        False\n",
       "ds009                        False\n",
       "ds011                        False\n",
       "ds017A                       False\n",
       "ds017B                        True\n",
       "ds051                        False\n",
       "ds052                         True\n",
       "ds101                        False\n",
       "ds105                        False\n",
       "ds107                        False\n",
       "ds108                        False\n",
       "ds109                         True\n",
       "ds110                        False\n",
       "ds114                         True\n",
       "ds116                        False\n",
       "gauthier2009resonance        False\n",
       "gauthier2010resonance        False\n",
       "hcp                          False\n",
       "henson2010faces               True\n",
       "knops2009recruitment         False\n",
       "la5c                         False\n",
       "pinel2009twins               False\n",
       "vagharchakian2012temporal    False\n",
       "Name: bacc, dtype: bool"
      ]
     },
     "execution_count": 34,
     "metadata": {},
     "output_type": "execute_result"
    }
   ],
   "source": [
    "(cme.loc[cme.estimator == 'nl_multi_study'].groupby('study').bacc.mean() > cme.loc[cme.estimator == 'multi_study'].groupby('study').bacc.mean())"
   ]
  },
  {
   "cell_type": "code",
   "execution_count": null,
   "metadata": {},
   "outputs": [],
   "source": []
  }
 ],
 "metadata": {
  "kernelspec": {
   "display_name": "Python [conda env:py35]",
   "language": "python",
   "name": "conda-env-py35-py"
  },
  "language_info": {
   "codemirror_mode": {
    "name": "ipython",
    "version": 3
   },
   "file_extension": ".py",
   "mimetype": "text/x-python",
   "name": "python",
   "nbconvert_exporter": "python",
   "pygments_lexer": "ipython3",
   "version": "3.5.5"
  }
 },
 "nbformat": 4,
 "nbformat_minor": 2
}
